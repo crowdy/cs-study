{
 "cells": [
  {
   "cell_type": "code",
   "execution_count": null,
   "metadata": {
    "collapsed": true
   },
   "outputs": [],
   "source": [
    "class TreeNode:\n",
    "    def __init__(self, val, left=None, right=None, parent=None):\n",
    "        self.val = val\n",
    "        self.left = left\n",
    "        self.right = right\n",
    "        self.parent = parent"
   ]
  },
  {
   "cell_type": "code",
   "execution_count": null,
   "metadata": {
    "collapsed": true
   },
   "outputs": [],
   "source": [
    "def tree_next_largest(node):\n",
    "    if node.right:\n",
    "        node = node.right\n",
    "        while node.left:\n",
    "            node = node.left\n",
    "        return node\n",
    "    if not node.parent:\n",
    "        return None\n",
    "    while node.parent:\n",
    "        if node.parent.left == node:\n",
    "            return node.parent\n",
    "    return None"
   ]
  },
  {
   "cell_type": "code",
   "execution_count": null,
   "metadata": {
    "collapsed": true
   },
   "outputs": [],
   "source": [
    "def sorted_array_to_BST1(arr):\n",
    "    \"this doesn't work properly\"\n",
    "    def sorted_array_to_BST_recur(arr, start, end):\n",
    "        if start > end:\n",
    "            return None\n",
    "        mid = start + (end - start) //2\n",
    "        print('mid:', mid)\n",
    "        node = TreeNode(arr[mbid])\n",
    "        node.left = sorted_array_to_BST_recur(arr, start, mid -1)\n",
    "        node.right = sorted_array_to_BST_recur(arr, mid + 1, end)\n",
    "        return node\n",
    "    \n",
    "    return sorted_array_to_BST_recur(arr, 0, len(arr)-1)"
   ]
  },
  {
   "cell_type": "code",
   "execution_count": null,
   "metadata": {
    "collapsed": true
   },
   "outputs": [],
   "source": [
    "arr = list(range(10))\n",
    "print(arr)\n",
    "result1 = sorted_array_to_BST(arr)\n",
    "result1.val"
   ]
  },
  {
   "cell_type": "code",
   "execution_count": null,
   "metadata": {
    "collapsed": true
   },
   "outputs": [],
   "source": [
    "print(result.right.left.val)"
   ]
  },
  {
   "cell_type": "code",
   "execution_count": null,
   "metadata": {
    "collapsed": true
   },
   "outputs": [],
   "source": [
    "def sorted_array_to_BST2(num):\n",
    "    if len(num) == 0: return None\n",
    "    if len(num) == 1:\n",
    "        root = TreeNode(num[0])\n",
    "        return root\n",
    "    mid = len(num) // 2\n",
    "    root = TreeNode(num[mid])\n",
    "    num1 = num[0:mid]\n",
    "    num2 = num[(mid+1):]\n",
    "    root.left = sorted_array_to_BST2(num1)\n",
    "    root.right = sorted_array_to_BST2(num2)\n",
    "    return root\n",
    "\n"
   ]
  },
  {
   "cell_type": "code",
   "execution_count": null,
   "metadata": {
    "collapsed": true
   },
   "outputs": [],
   "source": [
    "arr = list(range(10))\n",
    "print(arr)\n",
    "result2 = sorted_array_to_BST2(arr)\n",
    "result2.val"
   ]
  },
  {
   "cell_type": "code",
   "execution_count": null,
   "metadata": {
    "collapsed": true
   },
   "outputs": [],
   "source": [
    "result.left.val"
   ]
  },
  {
   "cell_type": "code",
   "execution_count": null,
   "metadata": {
    "collapsed": true
   },
   "outputs": [],
   "source": [
    "result.right.val"
   ]
  },
  {
   "cell_type": "code",
   "execution_count": null,
   "metadata": {
    "collapsed": true
   },
   "outputs": [],
   "source": [
    "result.left.right.val"
   ]
  },
  {
   "cell_type": "code",
   "execution_count": null,
   "metadata": {
    "collapsed": true
   },
   "outputs": [],
   "source": [
    "def print_BST_inorder(node):\n",
    "    if node is None:\n",
    "        return None\n",
    "    print_BST_inorder(node.left)\n",
    "    print(node.val, ' ', end='')\n",
    "    print_BST_inorder(node.right)\n",
    "print_BST_inorder(result1)\n",
    "print()\n",
    "print_BST_inorder(result2)"
   ]
  },
  {
   "cell_type": "code",
   "execution_count": null,
   "metadata": {
    "collapsed": true
   },
   "outputs": [],
   "source": [
    "def print_BST_preorder(node):\n",
    "    if node is None:\n",
    "        return None\n",
    "    print(node.val, ' ', end='')\n",
    "    print_BST_inorder(node.left)\n",
    "    print_BST_inorder(node.right)\n",
    "print_BST_preorder(result1)\n",
    "print()\n",
    "print_BST_preorder(result2)"
   ]
  },
  {
   "cell_type": "code",
   "execution_count": null,
   "metadata": {
    "collapsed": true
   },
   "outputs": [],
   "source": [
    "def print_BST_postorder(node):\n",
    "    if node is None:\n",
    "        return None\n",
    "    print_BST_inorder(node.left)\n",
    "    print_BST_inorder(node.right)\n",
    "    print(node.val, ' ', end='')\n",
    "print_BST_postorder(result1)\n",
    "print()\n",
    "print_BST_postorder(result2)"
   ]
  },
  {
   "cell_type": "code",
   "execution_count": null,
   "metadata": {
    "collapsed": true
   },
   "outputs": [],
   "source": [
    "from queue import Queue"
   ]
  },
  {
   "cell_type": "code",
   "execution_count": null,
   "metadata": {
    "collapsed": true
   },
   "outputs": [],
   "source": [
    "def print_BST_levelorder(node):\n",
    "    \"breadth first traversal\"\n",
    "    if node is None:\n",
    "        return None\n",
    "    q = Queue()\n",
    "    q.put(node)\n",
    "    list_leaves = []\n",
    "    while not q.empty():\n",
    "        n = q.get()\n",
    "        if n.left:\n",
    "            q.put(n.left)\n",
    "        if n.right:\n",
    "            q.put(n.right)\n",
    "        list_leaves.append(n.val)\n",
    "    return list_leaves\n",
    "print(print_BST_levelorder(result1))\n",
    "print()\n",
    "print(print_BST_levelorder(result2))"
   ]
  }
 ],
 "metadata": {
  "kernelspec": {
   "display_name": "Python 3",
   "language": "python",
   "name": "python3"
  },
  "language_info": {
   "codemirror_mode": {
    "name": "ipython",
    "version": 3
   },
   "file_extension": ".py",
   "mimetype": "text/x-python",
   "name": "python",
   "nbconvert_exporter": "python",
   "pygments_lexer": "ipython3",
   "version": "3.6.1"
  }
 },
 "nbformat": 4,
 "nbformat_minor": 2
}
