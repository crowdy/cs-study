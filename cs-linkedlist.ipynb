{
 "cells": [
  {
   "cell_type": "code",
   "execution_count": null,
   "metadata": {
    "collapsed": true
   },
   "outputs": [],
   "source": [
    "class ListNode:\n",
    "    def __init__(self, val, nextnode=None):\n",
    "        self.val = val\n",
    "        self.next = nextnode\n"
   ]
  },
  {
   "cell_type": "code",
   "execution_count": null,
   "metadata": {
    "collapsed": true
   },
   "outputs": [],
   "source": [
    "def list_to_LinkedList(arr):\n",
    "    G = [ListNode(i) for i in arr]\n",
    "    for i in range(len(arr) -1):\n",
    "        G[i].next = G[i+1]\n",
    "    return G[0]"
   ]
  },
  {
   "cell_type": "code",
   "execution_count": null,
   "metadata": {
    "collapsed": true
   },
   "outputs": [],
   "source": [
    "def print_LinkedList(head):\n",
    "    current = head\n",
    "    buff = []\n",
    "    while current:\n",
    "        buff.append(str(current.val))\n",
    "        current = current.next\n",
    "    print(\" -> \".join(buff))"
   ]
  },
  {
   "cell_type": "code",
   "execution_count": null,
   "metadata": {
    "collapsed": true
   },
   "outputs": [],
   "source": [
    "a = np.random.randint(0, 10, 10)\n",
    "l = list_to_LinkedList(a)\n",
    "print_LinkedList(l)"
   ]
  },
  {
   "cell_type": "code",
   "execution_count": null,
   "metadata": {
    "collapsed": true
   },
   "outputs": [],
   "source": [
    "l = list_to_LinkedList(a)\n",
    "l"
   ]
  },
  {
   "cell_type": "code",
   "execution_count": null,
   "metadata": {
    "collapsed": true
   },
   "outputs": [],
   "source": [
    "l = reverse_LinkedList(l)\n",
    "print_LinkedList(l)"
   ]
  },
  {
   "cell_type": "code",
   "execution_count": null,
   "metadata": {
    "collapsed": true
   },
   "outputs": [],
   "source": [
    "def generate_sample_LinkedList(minval=0, maxval=10, length=10):\n",
    "    arr = np.random.randint(minval, maxval, length)\n",
    "    return list_to_LinkedList(arr)"
   ]
  },
  {
   "cell_type": "code",
   "execution_count": null,
   "metadata": {
    "collapsed": true
   },
   "outputs": [],
   "source": [
    "def reverse_LinkedList(head):\n",
    "    \"if unclear, refer https://www.youtube.com/watch?v=XwIivDg1BlY&t=100s\"\n",
    "    next = None\n",
    "    prev = None\n",
    "    current = head\n",
    "    while current:\n",
    "        next = current.next\n",
    "        current.next = prev\n",
    "        prev = current\n",
    "        current = next\n",
    "    return prev"
   ]
  },
  {
   "cell_type": "code",
   "execution_count": null,
   "metadata": {
    "collapsed": true
   },
   "outputs": [],
   "source": [
    "def reverse2_LinkedList(head):\n",
    "    \"\"\"does not work\"\"\"\n",
    "    if not head.next:\n",
    "        return head\n",
    "    else:\n",
    "        new_start = reverse2_LinkedList(head.next)\n",
    "    head.next.next = head\n",
    "    head.next = None\n",
    "    return new_start"
   ]
  },
  {
   "cell_type": "code",
   "execution_count": null,
   "metadata": {
    "collapsed": true
   },
   "outputs": [],
   "source": [
    "l = reverse2_LinkedList(l)\n",
    "print_LinkedList(l)"
   ]
  },
  {
   "cell_type": "code",
   "execution_count": null,
   "metadata": {
    "collapsed": true
   },
   "outputs": [],
   "source": [
    "print_LinkedList(l)"
   ]
  },
  {
   "cell_type": "code",
   "execution_count": null,
   "metadata": {
    "collapsed": true
   },
   "outputs": [],
   "source": [
    "print_LinkedList(generate_sample_LinkedList())"
   ]
  },
  {
   "cell_type": "code",
   "execution_count": null,
   "metadata": {
    "collapsed": true
   },
   "outputs": [],
   "source": [
    "def has_cycle(head):\n",
    "    \"detects if the linked list is cycling\"\n",
    "    fast = head\n",
    "    slow = head\n",
    "    while fast:\n",
    "        fast = fast.next\n",
    "        if not fast:\n",
    "            return False\n",
    "        fast = fast.next\n",
    "        \n",
    "        slow = slow.next\n",
    "        if fast == slow:\n",
    "            return True\n",
    "    return False"
   ]
  },
  {
   "cell_type": "code",
   "execution_count": null,
   "metadata": {
    "collapsed": true
   },
   "outputs": [],
   "source": [
    "def len_of_cycle(head):\n",
    "    \"gets the length of cycle part of linked list\"\n",
    "    fast = start\n",
    "    slow = start\n",
    "    count = 0\n",
    "    incremental_count = False\n",
    "    \n",
    "    while fast:\n",
    "        fast = fast.next\n",
    "        if not fast:\n",
    "            return False\n",
    "        fast = fast.next\n",
    "        \n",
    "        slow = slow.next\n",
    "        if fast == slow:\n",
    "            if count == 0:\n",
    "                incremental_count = True\n",
    "            else:\n",
    "                return count\n",
    "        if incremental_count:\n",
    "            count += 1\n",
    "    return False"
   ]
  }
 ],
 "metadata": {
  "kernelspec": {
   "display_name": "Python 3",
   "language": "python",
   "name": "python3"
  },
  "language_info": {
   "codemirror_mode": {
    "name": "ipython",
    "version": 3
   },
   "file_extension": ".py",
   "mimetype": "text/x-python",
   "name": "python",
   "nbconvert_exporter": "python",
   "pygments_lexer": "ipython3",
   "version": "3.6.1"
  }
 },
 "nbformat": 4,
 "nbformat_minor": 2
}
