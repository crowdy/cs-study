{
 "cells": [
  {
   "cell_type": "code",
   "execution_count": null,
   "metadata": {
    "collapsed": true
   },
   "outputs": [],
   "source": [
    "import numpy as np"
   ]
  },
  {
   "cell_type": "code",
   "execution_count": null,
   "metadata": {
    "collapsed": true
   },
   "outputs": [],
   "source": [
    "def dedup(arr):\n",
    "    \"\"\"remove duplicated elements in array\"\"\"\n",
    "    if arr is None or len(arr) == 0:\n",
    "        return arr\n",
    "    seen = set()\n",
    "    res = []\n",
    "    for i in arr:\n",
    "        if i not in seen:\n",
    "            seen.add(i)\n",
    "            res.append(i)\n",
    "    return res"
   ]
  },
  {
   "cell_type": "code",
   "execution_count": null,
   "metadata": {
    "collapsed": true
   },
   "outputs": [],
   "source": [
    "a = np.random.randint(0, 10, 10)\n",
    "a\n",
    "a = dedup(a)\n",
    "a"
   ]
  },
  {
   "cell_type": "code",
   "execution_count": null,
   "metadata": {
    "collapsed": true
   },
   "outputs": [],
   "source": [
    "def bubble_sort(arr):\n",
    "    for i in range(len(arr)-1, 0, -1):\n",
    "        for j in range(i):\n",
    "            if arr[j] > arr[j+1]:\n",
    "                arr[j], arr[j+1] = arr[j+1], arr[j]\n",
    "    return arr\n",
    "\n",
    "a = bubble_sort(a)\n",
    "a"
   ]
  },
  {
   "cell_type": "code",
   "execution_count": null,
   "metadata": {
    "collapsed": true
   },
   "outputs": [],
   "source": [
    "def selection_sort(arr):\n",
    "    for i in range(len(arr)-1, 0, -1):\n",
    "        idx_maxval = 0\n",
    "        for j in range(1, i+1):\n",
    "            if arr[j] > arr[idx_maxval]:\n",
    "                idx_maxval = j\n",
    "        arr[i], arr[idx_maxval] = arr[idx_maxval], arr[i]"
   ]
  },
  {
   "cell_type": "code",
   "execution_count": null,
   "metadata": {
    "collapsed": true
   },
   "outputs": [],
   "source": [
    "import random\n",
    "random.shuffle?"
   ]
  },
  {
   "cell_type": "code",
   "execution_count": null,
   "metadata": {
    "collapsed": true
   },
   "outputs": [],
   "source": [
    "random.shuffle(a)\n",
    "a"
   ]
  },
  {
   "cell_type": "code",
   "execution_count": null,
   "metadata": {
    "collapsed": true
   },
   "outputs": [],
   "source": [
    "selection_sort(a)\n",
    "a"
   ]
  },
  {
   "cell_type": "code",
   "execution_count": null,
   "metadata": {
    "collapsed": true
   },
   "outputs": [],
   "source": [
    "def qsort(arr):\n",
    "    if len(arr) < 2: return arr\n",
    "    pivot = arr[0]\n",
    "    left = [i for i in arr if i < pivot]\n",
    "    middle = [i for i in arr if i == pivot]\n",
    "    right = [i for i in arr if i > pivot]\n",
    "    return qsort(left) + [middle] + qsort(right)"
   ]
  },
  {
   "cell_type": "code",
   "execution_count": null,
   "metadata": {
    "collapsed": true
   },
   "outputs": [],
   "source": [
    "random.shuffle(a)\n",
    "a"
   ]
  },
  {
   "cell_type": "code",
   "execution_count": null,
   "metadata": {
    "collapsed": true
   },
   "outputs": [],
   "source": [
    "a = qsort(a)\n",
    "a"
   ]
  },
  {
   "cell_type": "code",
   "execution_count": null,
   "metadata": {
    "collapsed": true
   },
   "outputs": [],
   "source": [
    "def merge_sort(arr):\n",
    "    if len(arr) > 1:\n",
    "        mid = len(arr) // 2\n",
    "        left = arr[:mid]\n",
    "        right = arr[mid:]\n",
    "        \n",
    "        merge_sort(left)\n",
    "        merge_sort(right)\n",
    "        \n",
    "        i, j, k = 0, 0, 0\n",
    "        while i < len(left) and j < len(right):\n",
    "            if left[i] < right[j]:\n",
    "                arr[k] = left[i]\n",
    "                i += 1\n",
    "            else:\n",
    "                arr[k] = right[j]\n",
    "                j += 1\n",
    "            k += 1\n",
    "            \n",
    "        while i < len(left):\n",
    "            arr[k] = left[i]\n",
    "            i += 1\n",
    "            k += 1\n",
    "        \n",
    "        while j < len(right):\n",
    "            arr[k] = right[j]\n",
    "            j += 1\n",
    "            k += 1\n"
   ]
  },
  {
   "cell_type": "code",
   "execution_count": null,
   "metadata": {
    "collapsed": true
   },
   "outputs": [],
   "source": [
    "random.shuffle(a)\n",
    "merge_sort(a)\n",
    "a"
   ]
  },
  {
   "cell_type": "code",
   "execution_count": null,
   "metadata": {
    "collapsed": true
   },
   "outputs": [],
   "source": [
    "def gcd(a, b):\n",
    "    r = a % b\n",
    "    while r > 0:\n",
    "        r = a % b\n",
    "        if r == 0:\n",
    "            return b # the gcd is b\n",
    "        a = b\n",
    "        b = r\n",
    "gcd(1071,1029) == 21\n",
    "gcd(5538,1105) == 13\n",
    "gcd(8764,7732) == 4"
   ]
  },
  {
   "cell_type": "code",
   "execution_count": null,
   "metadata": {
    "collapsed": true
   },
   "outputs": [],
   "source": [
    "gcd(1071,1029) "
   ]
  },
  {
   "cell_type": "code",
   "execution_count": null,
   "metadata": {
    "collapsed": true
   },
   "outputs": [],
   "source": [
    "def lcm(a, b):\n",
    "    return a * b / gcd(a, b)"
   ]
  },
  {
   "cell_type": "code",
   "execution_count": null,
   "metadata": {
    "collapsed": true
   },
   "outputs": [],
   "source": [
    "import math\n",
    "math.gcd(1071, 1029) == gcd(1071, 1029)"
   ]
  },
  {
   "cell_type": "code",
   "execution_count": null,
   "metadata": {
    "collapsed": true
   },
   "outputs": [],
   "source": [
    "from functools import reduce\n",
    "def gcd2(*n):\n",
    "    from math import gcd\n",
    "    return reduce(gcd, n)\n",
    "    "
   ]
  },
  {
   "cell_type": "code",
   "execution_count": null,
   "metadata": {
    "collapsed": true
   },
   "outputs": [],
   "source": [
    "gcd2(1071, 1029, 21)"
   ]
  },
  {
   "cell_type": "code",
   "execution_count": null,
   "metadata": {
    "collapsed": true
   },
   "outputs": [],
   "source": [
    "math.gcd??"
   ]
  },
  {
   "cell_type": "code",
   "execution_count": null,
   "metadata": {
    "collapsed": true
   },
   "outputs": [],
   "source": [
    "def is_prime(n):\n",
    "    if n > 2 and n % 2 == 0:\n",
    "        return False\n",
    "    for i in range(3, int(math.sqrt(n)) + 1, 2):\n",
    "        if n % i == 0:\n",
    "            return False\n",
    "    return True"
   ]
  },
  {
   "cell_type": "code",
   "execution_count": null,
   "metadata": {
    "collapsed": true
   },
   "outputs": [],
   "source": [
    "# Trapping Rain Water\n",
    "# given [0, 1, 0, 2, 1, 0, 1, 3, 2, 1, 2, 1] return 6\n",
    "def trap(height):\n",
    "    if height is None or len(height) == 0:\n",
    "        return 0\n",
    "    \n",
    "    max_i = 0\n",
    "    n = len(height)\n",
    "    for i in range(1, n):\n",
    "        if height[i] > height[max_i]:\n",
    "            max_i = i\n",
    "            \n",
    "    l, r = 0, n - 1\n",
    "    water = 0\n",
    "    \n",
    "    while l < r and height[l] < height[l + 1]:\n",
    "        l += 1\n",
    "    while l < r and height[r] < height[r - 1]:\n",
    "        r -= 1\n",
    "        \n",
    "    for i in range(l + 1, max_i):\n",
    "        if height[i] < height[l]:\n",
    "            water += height[l] - height[i]\n",
    "        else:\n",
    "            l = i\n",
    "            \n",
    "    for i in range(r - 1, max_i):\n",
    "        if height[i] < height[r]:\n",
    "            water += height[r] - height[i]\n",
    "        else:\n",
    "            r = i\n",
    "            \n",
    "    return water"
   ]
  },
  {
   "cell_type": "code",
   "execution_count": null,
   "metadata": {
    "collapsed": true
   },
   "outputs": [],
   "source": [
    "# Container with most water\n",
    "# find two lines which together with x-axis forms a container, such that the container contains the most water\n",
    "def maxArea(height):\n",
    "    l, r = 0, len(height) - 1\n",
    "    res = 0\n",
    "    \n",
    "    while l < r:\n",
    "        res = max(res, min(height[l], height[r]) * (r - l))\n",
    "        if height[l] < height[r]:\n",
    "            l += 1\n",
    "        else:\n",
    "            r -= 1\n",
    "    return res"
   ]
  },
  {
   "cell_type": "code",
   "execution_count": null,
   "metadata": {
    "collapsed": true
   },
   "outputs": [],
   "source": [
    "# is valid palindrom?\n",
    "# \"A man, a plan, a canal: Panama\" True\n",
    "# \"race a car\" False\n",
    "def isPalindrome(s):\n",
    "    l, r = 0, len(s) - 1\n",
    "    \n",
    "    while l < r:\n",
    "        while l < r and not s[l].isalnum():\n",
    "            l += 1\n",
    "        while l < r and not s[r].isalnum():\n",
    "            r -= 1\n",
    "            \n",
    "        if s[l].lower() != s[r].lower():\n",
    "            return False\n",
    "        \n",
    "        l += 1\n",
    "        r -= 1\n",
    "        \n",
    "    return True"
   ]
  },
  {
   "cell_type": "code",
   "execution_count": null,
   "metadata": {
    "collapsed": true
   },
   "outputs": [],
   "source": [
    "# two pointer\n",
    "# merge sorted array, modify nums1 in-place\n",
    "# nums1 = 1 2 3 4 5\n",
    "# nums2 = 3 5 7\n",
    "# make 1 2 3 3 4 5 5 7\n",
    "def merge(nums1, m, nums2, n):\n",
    "    i = m -1\n",
    "    j = n -1\n",
    "    k = m + n - 1\n",
    "    \n",
    "    while k >= 0 and i >= 0 and j >= 0:\n",
    "        if nums[i] > nums[j]:\n",
    "            nums1[k] = nums1[i]\n",
    "            i -= 1\n",
    "        else:\n",
    "            nums1[k] = nums2[j]\n",
    "            j -= 1\n",
    "        k -= 1\n",
    "        \n",
    "    if i < 0 and j >= 0:\n",
    "        nums1[:j + 1] = nums2[:j + 1]\n",
    "    "
   ]
  },
  {
   "cell_type": "code",
   "execution_count": null,
   "metadata": {
    "collapsed": true
   },
   "outputs": [],
   "source": [
    "# two pointers\n",
    "def smallestDifference(A, B):\n",
    "    A.sort()\n",
    "    B.sort()\n",
    "    \n",
    "    i = j = 0\n",
    "    diff = int.maxsize\n",
    "    \n",
    "    while i < len(A) and j < len(B):\n",
    "        if A[i] > B[j]:\n",
    "            diff = min(A[i] - B[j], diff)\n",
    "            j += 1\n",
    "        else:\n",
    "            diff = min(B[j] - A[i], diff)\n",
    "            i += 1\n",
    "    return diff"
   ]
  },
  {
   "cell_type": "code",
   "execution_count": null,
   "metadata": {
    "collapsed": true
   },
   "outputs": [],
   "source": [
    "# [2, 3, 1, 2, 4, 3], s = 7, return 7\n",
    "# find the minimal length of a subarray of which the sum >= s\n",
    "# two pointer O(n) time, O(1) space\n",
    "def minSubArrayLen(s, nums):\n",
    "    \"Two Pointer, O(n) time, O(1) space\"\n",
    "    total = l = 0\n",
    "    res = len(nums) + 1\n",
    "    \n",
    "    for r, elem in enumerate(nums):\n",
    "        total += elem\n",
    "        while total >= s:\n",
    "            res = min(res, r - l + 1)\n",
    "            total -= num[l]\n",
    "            l += 1\n",
    "            \n",
    "    return res if res <= len(nums) else 0"
   ]
  },
  {
   "cell_type": "code",
   "execution_count": null,
   "metadata": {
    "collapsed": true
   },
   "outputs": [],
   "source": [
    "# [2, 3, 1, 2, 4, 3], s = 7, return 7\n",
    "# find the minimal length of a subarray of which the sum >= s\n",
    "# binary search O(nlogn) time O(1) space\n",
    "def minSubArrayLen(s, nums):\n",
    "    def findLeft(nums, l, r, n, s):\n",
    "        while l < r:\n",
    "            mid = l + (r - l) // 2\n",
    "            if n - nums[mid] < s:\n",
    "                r = mid\n",
    "            else:\n",
    "                l = mid + 1\n",
    "        return l\n",
    "    \n",
    "    res = len(nums) + 1\n",
    "    \n",
    "    for i in range(1, len(nums)):\n",
    "        nums[i] += nums[i - 1]\n",
    "        \n",
    "    l = 0\n",
    "    for i, n in enumerate(nums):\n",
    "        if nums[i] >= s:\n",
    "            l = findLeft(nums, l, i, n, s)\n",
    "            res = min(res, i - l + 1)\n",
    "            \n",
    "    return res if res <= len(nums) else 0\n",
    "        "
   ]
  }
 ],
 "metadata": {
  "kernelspec": {
   "display_name": "Python 3",
   "language": "python",
   "name": "python3"
  },
  "language_info": {
   "codemirror_mode": {
    "name": "ipython",
    "version": 3
   },
   "file_extension": ".py",
   "mimetype": "text/x-python",
   "name": "python",
   "nbconvert_exporter": "python",
   "pygments_lexer": "ipython3",
   "version": "3.5.2"
  }
 },
 "nbformat": 4,
 "nbformat_minor": 2
}
