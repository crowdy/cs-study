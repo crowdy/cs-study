{
 "cells": [
  {
   "cell_type": "code",
   "execution_count": null,
   "metadata": {
    "collapsed": true
   },
   "outputs": [],
   "source": [
    "class GraphNode:\n",
    "    def __init__(self, val, neighbors=None):\n",
    "        self.val = val\n",
    "        self.neighbors = neighbors"
   ]
  },
  {
   "cell_type": "code",
   "execution_count": null,
   "metadata": {
    "collapsed": true
   },
   "outputs": [],
   "source": [
    "def generate_sample_graph(minval=0, maxval=10, numvertex=10, maxneighbors=4):\n",
    "    G = []\n",
    "    for i in range(numvertex):\n",
    "        G.append(GraphNode(random.randint(minval, maxval)))\n",
    "    for i in range(numvertex):\n",
    "        G[i].neighbors = []\n",
    "        for j in range(random.randint(0, maxneighbors)):\n",
    "            G[i].neighbors.append(G[j])\n",
    "    return G[0]"
   ]
  },
  {
   "cell_type": "code",
   "execution_count": null,
   "metadata": {
    "collapsed": true
   },
   "outputs": [],
   "source": [
    "def clone_graph(node):\n",
    "    copynode = GraphNode(node.val)\n",
    "    graph = {}\n",
    "    graph[node] = copynode\n",
    "    \n",
    "    queue = [node]\n",
    "    while queue:\n",
    "        cur = queue.pop(0)\n",
    "        for n in cur.neighbors:\n",
    "            if n in graph:\n",
    "                graph[cur].neighbors.append(graph[n])\n",
    "            else:\n",
    "                ncopy = GraphNode(n.val)\n",
    "                graph[n] = ncopy\n",
    "                graph[cur].neighbors.append(ncopy)\n",
    "                queue.append(n)\n",
    "    return graph[node]"
   ]
  },
  {
   "cell_type": "code",
   "execution_count": null,
   "metadata": {
    "collapsed": true
   },
   "outputs": [],
   "source": [
    "def cloneGraph(node):\n",
    "    if node is None:\n",
    "        return None\n",
    "    copyNode = GraphNode(node.val)\n",
    "    dic = {}\n",
    "    dic[node] = copyNode\n",
    "    queue = [node]\n",
    "    \n",
    "    while queue:\n",
    "        cur = queue.pop(0)\n",
    "        for n in cur.neighbors:\n",
    "            if n in dic:\n",
    "                dic[cur].neighbors.append(dic[n])\n",
    "            else:\n",
    "                nCopy = GraphNode(n.val)\n",
    "                dic[n] = nCopy\n",
    "                dic[cur].neighbors.append(ncopy)\n",
    "                queue.append(n)\n",
    "    return dic[node]\n"
   ]
  },
  {
   "cell_type": "code",
   "execution_count": 15,
   "metadata": {},
   "outputs": [],
   "source": [
    "def validTree(n, edges):\n",
    "    \"BFS, O(n) time, 0(n) space\"\n",
    "    if len(edges) != n -1:\n",
    "        return False\n",
    "    \n",
    "    neighbors = {i:[] for i in range(n)}\n",
    "    \n",
    "    for v, w in edges:\n",
    "        neighbors[v].append(w)\n",
    "        neighbors[w].append(v)\n",
    "        \n",
    "    queue = [0]\n",
    "    while queue:\n",
    "        print(queue, list(neighbors.keys()))\n",
    "        queue.extend(neighbors.pop(queue.pop(0), []))\n",
    "        \n",
    "    return not neighbors"
   ]
  },
  {
   "cell_type": "code",
   "execution_count": 16,
   "metadata": {},
   "outputs": [
    {
     "name": "stdout",
     "output_type": "stream",
     "text": [
      "[0] [0, 1, 2, 3, 4]\n",
      "[1, 2, 3] [1, 2, 3, 4]\n",
      "[2, 3, 0, 4] [2, 3, 4]\n",
      "[3, 0, 4, 0] [3, 4]\n",
      "[0, 4, 0, 0] [4]\n",
      "[4, 0, 0] [4]\n",
      "[0, 0, 1] []\n",
      "[0, 1] []\n",
      "[1] []\n"
     ]
    },
    {
     "data": {
      "text/plain": [
       "True"
      ]
     },
     "execution_count": 16,
     "metadata": {},
     "output_type": "execute_result"
    }
   ],
   "source": [
    "n = 5\n",
    "edges = [[0, 1], [0, 2], [0, 3], [1, 4]]\n",
    "validTree(n, edges)"
   ]
  },
  {
   "cell_type": "code",
   "execution_count": 17,
   "metadata": {},
   "outputs": [
    {
     "name": "stdout",
     "output_type": "stream",
     "text": [
      "[0] [0, 1, 2, 3, 4]\n",
      "[1, 1] [1, 2, 3, 4]\n",
      "[1, 0, 0, 4] [2, 3, 4]\n",
      "[0, 0, 4] [2, 3, 4]\n",
      "[0, 4] [2, 3, 4]\n",
      "[4] [2, 3, 4]\n",
      "[1] [2, 3]\n"
     ]
    },
    {
     "data": {
      "text/plain": [
       "False"
      ]
     },
     "execution_count": 17,
     "metadata": {},
     "output_type": "execute_result"
    }
   ],
   "source": [
    "n = 5\n",
    "edges = [[0, 1], [1, 0], [2, 3], [1, 4]]\n",
    "validTree(n, edges)"
   ]
  },
  {
   "cell_type": "code",
   "execution_count": null,
   "metadata": {
    "collapsed": true
   },
   "outputs": [],
   "source": [
    "n = 5\n",
    "edges = [[0, 1], [1, 2], [3, 4]] # return 2\n",
    "\n",
    "n = 5\n",
    "edges = [[0, 1], [1, 2], [2, 3], [3, 4]] # return 1\n",
    "\n",
    "def countComponent(n, edges):\n",
    "    \"BFS\"\n",
    "    neighbors = collections.defaultdict(set)\n",
    "    for v, w in edges:\n",
    "        neighbors[v].add(w)\n",
    "        neighbors[w].add(v)\n",
    "        \n",
    "    visited = [False] * n\n",
    "    res = 0\n",
    "    \n",
    "    for i in range(n):\n",
    "        if visited[i] == False:\n",
    "            res += 1\n",
    "            queue = [i]\n",
    "            visited[i] = True\n",
    "            \n",
    "            while queue:\n",
    "                cur = queue.pop(0)\n",
    "                \n",
    "                for k in neighbors[cur]:\n",
    "                    if visited[k] == False:\n",
    "                        queue.append(k)\n",
    "                        visited[k] = True\n",
    "    return res\n",
    "                    "
   ]
  },
  {
   "cell_type": "code",
   "execution_count": null,
   "metadata": {
    "collapsed": true
   },
   "outputs": [],
   "source": [
    "# Course Schedule \n",
    "n = 2, edges = [[1, 0]] # True\n",
    "n = 2, edges = [[1, 0], [0, 1]] # False\n",
    "\n",
    "def canFinish(numCourses, prerequisites):\n",
    "    \"BFS(topo sort), O(n) time, O(n) space\"\n",
    "    graph = {i: [] for i in range(numCourses)}\n",
    "    indegree = [0] * numCourses\n",
    "    \n",
    "    for a, b in prerequisites:\n",
    "        graph[b].append(a)\n",
    "        indegree[a] += 1\n",
    "        \n",
    "    # find zero indegree\n",
    "    zero = []\n",
    "    for i in range(numCourses):\n",
    "        if indegree[i] == 0:\n",
    "            zero.append(i)\n",
    "            \n",
    "    while zero:\n",
    "        cur = zero.pop(0)\n",
    "        \n",
    "        if cur in graph:\n",
    "            temp = graph[cur]\n",
    "            del graph[cur]\n",
    "            \n",
    "            for n in temp:\n",
    "                indegree[n] -= 1\n",
    "                if indegree[n] == 0:\n",
    "                    zero.append(n)\n",
    "                    \n",
    "    return len(graph) == 0 and sum(indegree) == 0\n"
   ]
  },
  {
   "cell_type": "code",
   "execution_count": null,
   "metadata": {
    "collapsed": true
   },
   "outputs": [],
   "source": [
    "def findOrder(numCourses, prerequisites) -> list[int]:\n",
    "    \"BFS(topo sort), O(n) time, O(n) space\"\n",
    "    indegree = [0] * numCourses\n",
    "    \n",
    "    for v, w in prerequisites:\n",
    "        greph[w].append(v)\n",
    "        indegree[v] += 1\n",
    "        \n",
    "    zero = []\n",
    "    # find zero indegree\n",
    "    for i in range(len(indegree)):\n",
    "        if indegree[i] == 0:\n",
    "            zero.append(i)\n",
    "            \n",
    "    res = []\n",
    "    while zero:\n",
    "        node = zero.pop(0)\n",
    "        res.append(node)\n",
    "        \n",
    "        for n in graph[node]:\n",
    "            indegree[n] -= 1\n",
    "            if indegree[n] == 0:\n",
    "                zero.append(n)\n",
    "                \n",
    "    return res if sum(indegree) == 0 else []\n",
    "\n"
   ]
  },
  {
   "cell_type": "code",
   "execution_count": null,
   "metadata": {
    "collapsed": true
   },
   "outputs": [],
   "source": [
    "n = 4, edges = [[1, 0], [1, 2], [1, 3]] # return [1]\n",
    "n = 6, edges = [[0, 3], [1, 3], [2, 3], [4, 3], [5, 4]] # return [3, 4]\n",
    "\n",
    "def findMinHeightTrees(n, edges):\n",
    "    \"BFS(topo sort), O(n) time, 0(n) space\"\n",
    "    if n == 1:\n",
    "        return [0]\n",
    "    \n",
    "    neighbors = [set() for _ in range(n)]\n",
    "    for i, j in edges:\n",
    "        neighbors[i].add(j)\n",
    "        neighbors[j].add(i)\n",
    "        \n",
    "    leaves = [i for i in range(n) if len(neighbors[i]) == 1]\n",
    "    while n > 2:\n",
    "        n -= len(leaves)\n",
    "        newleaves = []\n",
    "        \n",
    "        for j in leaves:\n",
    "            k = neighbors[j].pop()\n",
    "            neighbors[k].remove()\n",
    "            \n",
    "            if len(neighbors[k]) == 1:\n",
    "                newleaves.append(k)\n",
    "        leaves = newleaves\n",
    "    return leaves"
   ]
  }
 ],
 "metadata": {
  "kernelspec": {
   "display_name": "Python 3",
   "language": "python",
   "name": "python3"
  },
  "language_info": {
   "codemirror_mode": {
    "name": "ipython",
    "version": 3
   },
   "file_extension": ".py",
   "mimetype": "text/x-python",
   "name": "python",
   "nbconvert_exporter": "python",
   "pygments_lexer": "ipython3",
   "version": "3.5.2"
  }
 },
 "nbformat": 4,
 "nbformat_minor": 2
}
