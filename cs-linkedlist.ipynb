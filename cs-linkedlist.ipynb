{
 "cells": [
  {
   "cell_type": "code",
   "execution_count": null,
   "metadata": {
    "collapsed": true
   },
   "outputs": [],
   "source": [
    "class ListNode:\n",
    "    def __init__(self, val, nextnode=None):\n",
    "        self.val = val\n",
    "        self.next = nextnode\n"
   ]
  },
  {
   "cell_type": "code",
   "execution_count": null,
   "metadata": {
    "collapsed": true
   },
   "outputs": [],
   "source": [
    "def list_to_LinkedList(arr):\n",
    "    G = [ListNode(i) for i in arr]\n",
    "    for i in range(len(arr) -1):\n",
    "        G[i].next = G[i+1]\n",
    "    return G[0]"
   ]
  },
  {
   "cell_type": "code",
   "execution_count": null,
   "metadata": {
    "collapsed": true
   },
   "outputs": [],
   "source": [
    "def print_LinkedList(head):\n",
    "    current = head\n",
    "    buff = []\n",
    "    while current:\n",
    "        buff.append(str(current.val))\n",
    "        current = current.next\n",
    "    print(\" -> \".join(buff))"
   ]
  },
  {
   "cell_type": "code",
   "execution_count": null,
   "metadata": {
    "collapsed": true
   },
   "outputs": [],
   "source": [
    "a = np.random.randint(0, 10, 10)\n",
    "l = list_to_LinkedList(a)\n",
    "print_LinkedList(l)"
   ]
  },
  {
   "cell_type": "code",
   "execution_count": null,
   "metadata": {
    "collapsed": true
   },
   "outputs": [],
   "source": [
    "l = list_to_LinkedList(a)\n",
    "l"
   ]
  },
  {
   "cell_type": "code",
   "execution_count": null,
   "metadata": {
    "collapsed": true
   },
   "outputs": [],
   "source": [
    "l = reverse_LinkedList(l)\n",
    "print_LinkedList(l)"
   ]
  },
  {
   "cell_type": "code",
   "execution_count": null,
   "metadata": {
    "collapsed": true
   },
   "outputs": [],
   "source": [
    "def generate_sample_LinkedList(minval=0, maxval=10, length=10):\n",
    "    arr = np.random.randint(minval, maxval, length)\n",
    "    return list_to_LinkedList(arr)"
   ]
  },
  {
   "cell_type": "code",
   "execution_count": null,
   "metadata": {
    "collapsed": true
   },
   "outputs": [],
   "source": [
    "def reverse_LinkedList(head):\n",
    "    \"if unclear, refer https://www.youtube.com/watch?v=XwIivDg1BlY&t=100s\"\n",
    "    next = None\n",
    "    prev = None\n",
    "    current = head\n",
    "    while current:\n",
    "        next = current.next\n",
    "        current.next = prev\n",
    "        prev = current\n",
    "        current = next\n",
    "    return prev"
   ]
  },
  {
   "cell_type": "code",
   "execution_count": null,
   "metadata": {
    "collapsed": true
   },
   "outputs": [],
   "source": [
    "def reverse2_LinkedList(head):\n",
    "    \"\"\"does not work\"\"\"\n",
    "    if not head.next:\n",
    "        return head\n",
    "    else:\n",
    "        new_start = reverse2_LinkedList(head.next)\n",
    "    head.next.next = head\n",
    "    head.next = None\n",
    "    return new_start"
   ]
  },
  {
   "cell_type": "code",
   "execution_count": null,
   "metadata": {
    "collapsed": true
   },
   "outputs": [],
   "source": [
    "l = reverse2_LinkedList(l)\n",
    "print_LinkedList(l)"
   ]
  },
  {
   "cell_type": "code",
   "execution_count": null,
   "metadata": {
    "collapsed": true
   },
   "outputs": [],
   "source": [
    "print_LinkedList(l)"
   ]
  },
  {
   "cell_type": "code",
   "execution_count": null,
   "metadata": {
    "collapsed": true
   },
   "outputs": [],
   "source": [
    "print_LinkedList(generate_sample_LinkedList())"
   ]
  },
  {
   "cell_type": "code",
   "execution_count": null,
   "metadata": {
    "collapsed": true
   },
   "outputs": [],
   "source": [
    "def has_cycle(head):\n",
    "    \"detects if the linked list is cycling\"\n",
    "    fast = head\n",
    "    slow = head\n",
    "    while fast:\n",
    "        fast = fast.next\n",
    "        if not fast:\n",
    "            return False\n",
    "        fast = fast.next\n",
    "        \n",
    "        slow = slow.next\n",
    "        if fast == slow:\n",
    "            return True\n",
    "    return False"
   ]
  },
  {
   "cell_type": "code",
   "execution_count": null,
   "metadata": {
    "collapsed": true
   },
   "outputs": [],
   "source": [
    "def len_of_cycle(head):\n",
    "    \"gets the length of cycle part of linked list\"\n",
    "    fast = start\n",
    "    slow = start\n",
    "    count = 0\n",
    "    incremental_count = False\n",
    "    \n",
    "    while fast:\n",
    "        fast = fast.next\n",
    "        if not fast:\n",
    "            return False\n",
    "        fast = fast.next\n",
    "        slow = slow.next\n",
    "        \n",
    "        if fast == slow:\n",
    "            if count == 0:\n",
    "                incremental_count = True\n",
    "            else:\n",
    "                return count\n",
    "        if incremental_count:\n",
    "            count += 1\n",
    "    return False"
   ]
  },
  {
   "cell_type": "code",
   "execution_count": null,
   "metadata": {
    "collapsed": true
   },
   "outputs": [],
   "source": [
    "# given 1->4->3->2->5->2 and x = 3\n",
    "# return 1->2->2->4->3->5\n",
    "\n",
    "def partition(head, x):\n",
    "    h1 = cur1 = ListNode(0)\n",
    "    h2 = cur2 = ListNode(0)\n",
    "    \n",
    "    while head:\n",
    "        temp = head.next\n",
    "        if head.val < x:\n",
    "            cur1.next = head\n",
    "            head.next = None\n",
    "            cur1 = cur1.next\n",
    "        else:\n",
    "            cur2.next = head\n",
    "            head.next = None\n",
    "            cur2 = cur2.next\n",
    "        head = temp\n",
    "        \n",
    "    cur1.next = h2.next\n",
    "    return h1.next\n"
   ]
  },
  {
   "cell_type": "code",
   "execution_count": null,
   "metadata": {
    "collapsed": true
   },
   "outputs": [],
   "source": [
    "def rotateRight(head, k):\n",
    "    if head is None or head.next is None:\n",
    "        return head\n",
    "    \n",
    "    dummy = cur = ListNode(0)\n",
    "    dummy.next = head\n",
    "    \n",
    "    def getLen(head):\n",
    "        n = 0\n",
    "        while head:\n",
    "            head = head.next\n",
    "            n += 1\n",
    "        return n\n",
    "    \n",
    "    k %= getLen(head)\n",
    "    \n",
    "    for i in range(k):\n",
    "        head = head.next\n",
    "        \n",
    "    while head.next:\n",
    "        head = head.next\n",
    "        cur = cur.next\n",
    "    \n",
    "    cur = cur.next\n",
    "    \n",
    "    head.next = dummy.next\n",
    "    dummy.next = cur.next\n",
    "    cur.next = None\n",
    "    \n",
    "    return dummy.next\n"
   ]
  },
  {
   "cell_type": "code",
   "execution_count": null,
   "metadata": {
    "collapsed": true
   },
   "outputs": [],
   "source": [
    "def isPalindrome(head):\n",
    "    if head is None:\n",
    "        return True\n",
    "    \n",
    "    def getMid(head):\n",
    "        slow = head\n",
    "        fast = head.next\n",
    "        while fast and fast.next:\n",
    "            slow = slow.next\n",
    "            fast = fast.next.next\n",
    "        return slow\n",
    "    \n",
    "    mid = getMid(head)\n",
    "    \n",
    "    right = mid.next\n",
    "    mid.next = None\n",
    "    \n",
    "    def reverse(head):\n",
    "        pre = None\n",
    "        while head:\n",
    "            temp = head.next\n",
    "            head.next = pre\n",
    "            pre = head\n",
    "            head = temp\n",
    "        return pre\n",
    "        \n",
    "    def compare(h1, h2):\n",
    "        while h1 and h2:\n",
    "            if h1.val != h2.val:\n",
    "                return False\n",
    "            h1 = h1.next\n",
    "            h2 = h2.next\n",
    "        return True\n",
    "    \n",
    "    return compare(head, reverse(right))\n",
    "    "
   ]
  },
  {
   "cell_type": "code",
   "execution_count": null,
   "metadata": {
    "collapsed": true
   },
   "outputs": [],
   "source": [
    "# Remove Nth Node from End of List\n",
    "# given 1->2->3->4->5, and n = 2 return 1->2->3->5\n",
    "def removeNthFromEnd(head, n):\n",
    "    dummy = cur = ListNode(0)\n",
    "    dummy.next = head\n",
    "    \n",
    "    for i in range(n):\n",
    "        head = head.next\n",
    "        \n",
    "    while head:\n",
    "        cur = cur.next\n",
    "        head = head.next\n",
    "        \n",
    "    cur.next = cur.next.next\n",
    "    return dummy.next\n"
   ]
  }
 ],
 "metadata": {
  "kernelspec": {
   "display_name": "Python 3",
   "language": "python",
   "name": "python3"
  },
  "language_info": {
   "codemirror_mode": {
    "name": "ipython",
    "version": 3
   },
   "file_extension": ".py",
   "mimetype": "text/x-python",
   "name": "python",
   "nbconvert_exporter": "python",
   "pygments_lexer": "ipython3",
   "version": "3.5.2"
  }
 },
 "nbformat": 4,
 "nbformat_minor": 2
}
