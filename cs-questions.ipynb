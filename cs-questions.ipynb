{
 "cells": [
  {
   "cell_type": "code",
   "execution_count": 1,
   "metadata": {
    "collapsed": true
   },
   "outputs": [],
   "source": [
    "import random\n",
    "questions = {}\n",
    "questions['array'] = [\n",
    "    'quick sort',\n",
    "    'merge sort',\n",
    "    'two sum',\n",
    "    'three sum',\n",
    "    'nearest three sum'\n",
    "]\n",
    "questions['graph'] = [\n",
    "    'serialize the graph'\n",
    "]\n",
    "questions['linkedlist'] = [\n",
    "    'reverse linkedlist',\n",
    "    'serialize the linked list',\n",
    "    'merge sort'\n",
    "]\n",
    "questions['matrix'] = [\n",
    "    'rotate a matrix 90 degrees clockwise'\n",
    "]\n",
    "questions['string'] = [\n",
    "    'is a palindrome',\n",
    "    'find logest palindrome'\n",
    "]\n",
    "questions['stackqueue'] = [\n",
    "    'implement queue with two stacks',\n",
    "    'implement stack with two queues',\n",
    "]\n",
    "questions['tree'] = [\n",
    "    'make random tree',\n",
    "    'serialize tree',\n",
    "    'copy tree',\n",
    "    'is the tree given a balanced-tree'\n",
    "    'nearest common ancestor'\n",
    "]\n"
   ]
  },
  {
   "cell_type": "code",
   "execution_count": 2,
   "metadata": {
    "collapsed": true
   },
   "outputs": [],
   "source": [
    "import itertools\n",
    "def get_a_random_question():\n",
    "    l = list(itertools.chain(*questions.values()))\n",
    "    return l[random.randint(0, len(l)-1)]"
   ]
  },
  {
   "cell_type": "code",
   "execution_count": 3,
   "metadata": {},
   "outputs": [
    {
     "data": {
      "text/plain": [
       "'serialize tree'"
      ]
     },
     "execution_count": 3,
     "metadata": {},
     "output_type": "execute_result"
    }
   ],
   "source": [
    "get_a_random_question()"
   ]
  }
 ],
 "metadata": {
  "kernelspec": {
   "display_name": "Python 3",
   "language": "python",
   "name": "python3"
  },
  "language_info": {
   "codemirror_mode": {
    "name": "ipython",
    "version": 3
   },
   "file_extension": ".py",
   "mimetype": "text/x-python",
   "name": "python",
   "nbconvert_exporter": "python",
   "pygments_lexer": "ipython3",
   "version": "3.6.1"
  }
 },
 "nbformat": 4,
 "nbformat_minor": 2
}
