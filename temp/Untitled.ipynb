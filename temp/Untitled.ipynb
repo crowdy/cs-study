{
 "cells": [
  {
   "cell_type": "code",
   "execution_count": 10,
   "metadata": {
    "collapsed": true
   },
   "outputs": [],
   "source": [
    "def largestRectangleArea(height):\n",
    "    height.append(-1)\n",
    "    s = [-1]\n",
    "    ans = 0\n",
    "    for i in range(len(height)):\n",
    "        print('i = ', i)\n",
    "        while height[i] < height[s[-1]]:\n",
    "            temp = s.pop()\n",
    "            ans = max(ans, height[temp] * (i - s[-1] -1))\n",
    "            print(s, ans)\n",
    "        s.append(i)\n",
    "        print( s)\n",
    "    return ans"
   ]
  },
  {
   "cell_type": "code",
   "execution_count": null,
   "metadata": {
    "collapsed": true
   },
   "outputs": [],
   "source": []
  },
  {
   "cell_type": "code",
   "execution_count": 11,
   "metadata": {
    "scrolled": false
   },
   "outputs": [
    {
     "name": "stdout",
     "output_type": "stream",
     "text": [
      "i =  0\n",
      "[-1, 0]\n",
      "i =  1\n",
      "[-1] 5\n",
      "[-1, 1]\n",
      "i =  2\n",
      "[-1] 6\n",
      "[-1, 2]\n",
      "i =  3\n",
      "[-1, 2, 3]\n",
      "i =  4\n",
      "[-1, 2] 6\n",
      "[-1, 2, 4]\n",
      "i =  5\n",
      "[-1, 2, 4, 5]\n",
      "i =  6\n",
      "[-1, 2, 4] 7\n",
      "[-1, 2] 12\n",
      "[-1, 2, 6]\n",
      "i =  7\n",
      "[-1, 2] 12\n",
      "[-1] 14\n",
      "[-1, 7]\n"
     ]
    },
    {
     "data": {
      "text/plain": [
       "14"
      ]
     },
     "execution_count": 11,
     "metadata": {},
     "output_type": "execute_result"
    }
   ],
   "source": [
    "height = [5, 3, 2, 5, 4, 7, 3]\n",
    "largestRectangleArea(height)"
   ]
  },
  {
   "cell_type": "code",
   "execution_count": 23,
   "metadata": {
    "collapsed": true
   },
   "outputs": [],
   "source": [
    "# @param {TreeNode} root\n",
    "# @return {integer[][]}\n",
    "def levelOrder(root):\n",
    "    ans = []\n",
    "    addLevel(ans, 0, root)\n",
    "    return ans\n",
    "\n",
    "def addLevel(ans, cur, root):\n",
    "    if not root:\n",
    "        return\n",
    "    elif len(ans) <= cur:\n",
    "        print('here: ', root.val)\n",
    "        ans.append([root.val])\n",
    "    else:\n",
    "        ans[cur].append(root.val)\n",
    "\n",
    "    addLevel(ans, cur + 1, root.left)\n",
    "    addLevel(ans, cur + 1, root.right)"
   ]
  },
  {
   "cell_type": "code",
   "execution_count": 13,
   "metadata": {
    "collapsed": true
   },
   "outputs": [],
   "source": [
    "class TreeNode(object):\n",
    "    def __init__(self, val, left=None, right=None):\n",
    "        self.val = val\n",
    "        self.left = left\n",
    "        self.right = right\n",
    "        "
   ]
  },
  {
   "cell_type": "code",
   "execution_count": 14,
   "metadata": {
    "collapsed": true
   },
   "outputs": [],
   "source": [
    "t = TreeNode(0, TreeNode(1, TreeNode(2), TreeNode(3)), TreeNode(4, TreeNode(5), TreeNode(6)))"
   ]
  },
  {
   "cell_type": "code",
   "execution_count": 24,
   "metadata": {},
   "outputs": [
    {
     "name": "stdout",
     "output_type": "stream",
     "text": [
      "here:  0\n",
      "here:  1\n",
      "here:  2\n"
     ]
    }
   ],
   "source": [
    "res = levelOrder(t)"
   ]
  },
  {
   "cell_type": "code",
   "execution_count": 20,
   "metadata": {},
   "outputs": [
    {
     "data": {
      "text/plain": [
       "[[0], [1, 4], [2, 3, 5, 6]]"
      ]
     },
     "execution_count": 20,
     "metadata": {},
     "output_type": "execute_result"
    }
   ],
   "source": [
    "res"
   ]
  },
  {
   "cell_type": "code",
   "execution_count": 28,
   "metadata": {
    "collapsed": true
   },
   "outputs": [],
   "source": [
    "def zigzagLevelOrder(root):\n",
    "    if not root:\n",
    "        return []\n",
    "\n",
    "    res = []\n",
    "    queue = [root]\n",
    "    flag = 1\n",
    "\n",
    "    while queue:\n",
    "        n = len(queue)\n",
    "        level = []\n",
    "        for i in range(n):\n",
    "            tmp = queue.pop(0)\n",
    "            level.append(tmp.val)\n",
    "            if tmp.left:\n",
    "                queue.append(tmp.left)\n",
    "\n",
    "            if tmp.right:\n",
    "                queue.append(tmp.right)\n",
    "\n",
    "        res.append(level[::flag])\n",
    "        flag *= -1\n",
    "\n",
    "    return res"
   ]
  },
  {
   "cell_type": "code",
   "execution_count": 29,
   "metadata": {
    "scrolled": true
   },
   "outputs": [
    {
     "data": {
      "text/plain": [
       "[[0], [4, 1], [2, 3, 5, 6]]"
      ]
     },
     "execution_count": 29,
     "metadata": {},
     "output_type": "execute_result"
    }
   ],
   "source": [
    "zigzagLevelOrder(t)"
   ]
  },
  {
   "cell_type": "code",
   "execution_count": 34,
   "metadata": {
    "collapsed": true
   },
   "outputs": [],
   "source": [
    "def verifyPreorder(preorder):\n",
    "    inorder = []\n",
    "    stack = []\n",
    "\n",
    "    for p in preorder:\n",
    "        print(p, inorder, stack)\n",
    "        if inorder and p < inorder[-1]:\n",
    "            return False\n",
    "        while stack and p > stack[-1]:\n",
    "            inorder.append(stack.pop())\n",
    "        stack.append(p)\n",
    "\n",
    "    return True"
   ]
  },
  {
   "cell_type": "code",
   "execution_count": 35,
   "metadata": {
    "scrolled": true
   },
   "outputs": [
    {
     "name": "stdout",
     "output_type": "stream",
     "text": [
      "4 [] []\n",
      "2 [] [4]\n",
      "1 [] [4, 2]\n",
      "3 [] [4, 2, 1]\n",
      "5 [1, 2] [4, 3]\n",
      "6 [1, 2, 3, 4] [5]\n"
     ]
    },
    {
     "data": {
      "text/plain": [
       "True"
      ]
     },
     "execution_count": 35,
     "metadata": {},
     "output_type": "execute_result"
    }
   ],
   "source": [
    "preorder =[4, 2, 1, 3, 5, 6]\n",
    "verifyPreorder(preorder)"
   ]
  },
  {
   "cell_type": "code",
   "execution_count": 38,
   "metadata": {
    "collapsed": true
   },
   "outputs": [],
   "source": [
    "def verifyPreorder(preorder):\n",
    "    low = -1\n",
    "    i = -1\n",
    "\n",
    "    for p in preorder:\n",
    "        print(low, i, p)\n",
    "        if p < low:\n",
    "            return False\n",
    "        while i >= 0 and p > preorder[i]:\n",
    "            low = preorder[i]\n",
    "            i -= 1\n",
    "\n",
    "        i += 1\n",
    "        preorder[i] = p\n",
    "\n",
    "    return True"
   ]
  },
  {
   "cell_type": "code",
   "execution_count": 39,
   "metadata": {
    "scrolled": true
   },
   "outputs": [
    {
     "name": "stdout",
     "output_type": "stream",
     "text": [
      "-1 -1 4\n",
      "-1 0 2\n",
      "-1 1 1\n",
      "-1 2 3\n",
      "2 1 5\n",
      "4 0 6\n"
     ]
    },
    {
     "data": {
      "text/plain": [
       "True"
      ]
     },
     "execution_count": 39,
     "metadata": {},
     "output_type": "execute_result"
    }
   ],
   "source": [
    "preorder =[4, 2, 1, 3, 5, 6]\n",
    "verifyPreorder(preorder)"
   ]
  },
  {
   "cell_type": "code",
   "execution_count": 44,
   "metadata": {
    "collapsed": true
   },
   "outputs": [],
   "source": [
    "def canFinish(numCourses, prerequisites):\n",
    "    zeroInDegree = set()\n",
    "    degree = [0] * numCourses\n",
    "\n",
    "    for pre in prerequisites:\n",
    "        degree[pre[0]] += 1\n",
    "\n",
    "    for i in range(len(degree)):\n",
    "        if degree[i] == 0:\n",
    "            zeroInDegree.add(i)\n",
    "\n",
    "    if not zeroInDegree:\n",
    "        return False\n",
    "\n",
    "    while zeroInDegree:\n",
    "        print(zeroInDegree, degree)\n",
    "        it = iter(zeroInDegree)\n",
    "        course = next(it)\n",
    "        zeroInDegree.remove(course)\n",
    "\n",
    "        for i in range(len(prerequisites)):\n",
    "            edge = prerequisites[i]\n",
    "            if edge[1] == course:\n",
    "                degree[edge[0]] -= 1\n",
    "                if degree[edge[0]] == 0:\n",
    "                    zeroInDegree.add(edge[0])\n",
    "\n",
    "    return sum(degree) == 0"
   ]
  },
  {
   "cell_type": "code",
   "execution_count": 46,
   "metadata": {},
   "outputs": [
    {
     "name": "stdout",
     "output_type": "stream",
     "text": [
      "{5} [1, 1, 2, 1, 1, 0]\n",
      "{4} [1, 1, 2, 1, 0, 0]\n"
     ]
    },
    {
     "data": {
      "text/plain": [
       "False"
      ]
     },
     "execution_count": 46,
     "metadata": {},
     "output_type": "execute_result"
    }
   ],
   "source": [
    "prerequisites=[ [0, 1], [1, 2], [2, 3], [2, 4],[4, 5], [3,1]]\n",
    "numCourses = 6\n",
    "canFinish(numCourses, prerequisites)"
   ]
  },
  {
   "cell_type": "code",
   "execution_count": 47,
   "metadata": {
    "collapsed": true
   },
   "outputs": [],
   "source": [
    "def findOrder(numCourses, prerequisites):\n",
    "    res = []\n",
    "    zeroInDegree = set()\n",
    "    degree = [0] * numCourses\n",
    "\n",
    "    for course, pre in prerequisites:\n",
    "        degree[course] += 1\n",
    "\n",
    "    for i in range(len(degree)):\n",
    "        if degree[i] == 0:\n",
    "            zeroInDegree.add(i)\n",
    "\n",
    "    if not zeroInDegree:\n",
    "        return []\n",
    "\n",
    "    queue = list(zeroInDegree)\n",
    "    while queue:\n",
    "        course = queue.pop(0)\n",
    "        res.append(course)\n",
    "\n",
    "        for cur, pre in prerequisites:\n",
    "            if pre == course:\n",
    "                degree[cur] -= 1\n",
    "                if degree[cur] == 0:\n",
    "                    queue.append(cur)\n",
    "\n",
    "    if sum(degree) == 0:\n",
    "        return res\n",
    "    return []"
   ]
  },
  {
   "cell_type": "code",
   "execution_count": 48,
   "metadata": {},
   "outputs": [
    {
     "data": {
      "text/plain": [
       "[3, 5, 4, 2, 1, 0]"
      ]
     },
     "execution_count": 48,
     "metadata": {},
     "output_type": "execute_result"
    }
   ],
   "source": [
    "prerequisites=[ [0, 1], [1, 2], [2, 3], [2, 4],[4, 5]]\n",
    "numCourses = 6\n",
    "findOrder(numCourses, prerequisites)"
   ]
  },
  {
   "cell_type": "code",
   "execution_count": 50,
   "metadata": {},
   "outputs": [
    {
     "data": {
      "text/plain": [
       "[1, 2, 3, 4, 3, 4, 5, 6]"
      ]
     },
     "execution_count": 50,
     "metadata": {},
     "output_type": "execute_result"
    }
   ],
   "source": [
    "a = [1, 2, 3, 4]\n",
    "b = [3, 4, 5, 6]\n",
    "a.extend(b)\n",
    "a"
   ]
  },
  {
   "cell_type": "code",
   "execution_count": 52,
   "metadata": {},
   "outputs": [
    {
     "data": {
      "text/plain": [
       "[1, 2, 3, 4, 3, 4, 5, 6]"
      ]
     },
     "execution_count": 52,
     "metadata": {},
     "output_type": "execute_result"
    }
   ],
   "source": [
    "a = [1, 2, 3, 4]\n",
    "b = [3, 4, 5, 6]\n",
    "a + b"
   ]
  },
  {
   "cell_type": "code",
   "execution_count": 57,
   "metadata": {
    "collapsed": true
   },
   "outputs": [],
   "source": [
    "def permutate(s):\n",
    "    ans = []\n",
    "    permutations('', s, ans)\n",
    "    return ans\n",
    "\n",
    "def permutations(prefix, suffix, res):\n",
    "    if not suffix:\n",
    "        res.append(prefix)\n",
    "    else:\n",
    "        for i, c in enumerate(suffix):\n",
    "            permutations(prefix + c, suffix[:i] + suffix[i+1:], res)"
   ]
  },
  {
   "cell_type": "code",
   "execution_count": 59,
   "metadata": {},
   "outputs": [
    {
     "data": {
      "text/plain": [
       "5040"
      ]
     },
     "execution_count": 59,
     "metadata": {},
     "output_type": "execute_result"
    }
   ],
   "source": [
    "len(permutate(\"abcdefg\"))"
   ]
  },
  {
   "cell_type": "code",
   "execution_count": 61,
   "metadata": {
    "collapsed": true
   },
   "outputs": [],
   "source": [
    "import math"
   ]
  },
  {
   "cell_type": "code",
   "execution_count": 62,
   "metadata": {},
   "outputs": [
    {
     "data": {
      "text/plain": [
       "5040"
      ]
     },
     "execution_count": 62,
     "metadata": {},
     "output_type": "execute_result"
    }
   ],
   "source": [
    "math.factorial(7)"
   ]
  },
  {
   "cell_type": "code",
   "execution_count": 96,
   "metadata": {},
   "outputs": [],
   "source": [
    "def permutate2(arr):\n",
    "    ans = []\n",
    "    permutations2(arr, 0, ans)\n",
    "    return ans\n",
    "\n",
    "def permutations2(arr, start, ans):\n",
    "    if start >= len(arr):\n",
    "        ans.append(arr.copy())\n",
    "    else:\n",
    "        for i in range(start, len(arr)):\n",
    "            arr[start], arr[i] = arr[i], arr[start]\n",
    "            permutations2(arr, start + 1, ans)\n",
    "            arr[start], arr[i] = arr[i], arr[start]"
   ]
  },
  {
   "cell_type": "code",
   "execution_count": 98,
   "metadata": {
    "collapsed": true
   },
   "outputs": [],
   "source": [
    "arr = [1, 2, 3, 4, 5, 6, 7]"
   ]
  },
  {
   "cell_type": "code",
   "execution_count": 100,
   "metadata": {},
   "outputs": [
    {
     "data": {
      "text/plain": [
       "5040"
      ]
     },
     "execution_count": 100,
     "metadata": {},
     "output_type": "execute_result"
    }
   ],
   "source": [
    "len(permutate2(arr))"
   ]
  },
  {
   "cell_type": "code",
   "execution_count": 103,
   "metadata": {
    "collapsed": true
   },
   "outputs": [],
   "source": [
    "def permute(nums):\n",
    "    \"\"\"\n",
    "    :type nums: List[int]\n",
    "    :rtype: List[List[int]]\n",
    "    \"\"\"\n",
    "    if nums is None or len(nums) == 0:\n",
    "        return []\n",
    "\n",
    "    ans, sub = [], []\n",
    "    helper(nums, ans, sub, 0)\n",
    "    return ans\n",
    "\n",
    "def helper(nums, ans, sub, k):\n",
    "    if len(sub) == len(nums):\n",
    "        ans.append(list(sub))\n",
    "\n",
    "    for i in range(len(nums)):\n",
    "        if nums[i] in sub:\n",
    "            continue\n",
    "\n",
    "        sub.append(nums[i])\n",
    "        helper(nums, ans, sub, i + 1)\n",
    "        sub.pop()"
   ]
  },
  {
   "cell_type": "code",
   "execution_count": 104,
   "metadata": {},
   "outputs": [
    {
     "data": {
      "text/plain": [
       "[[1, 2, 3], [1, 3, 2], [2, 1, 3], [2, 3, 1], [3, 1, 2], [3, 2, 1]]"
      ]
     },
     "execution_count": 104,
     "metadata": {},
     "output_type": "execute_result"
    }
   ],
   "source": [
    "permute([1, 2, 3])"
   ]
  },
  {
   "cell_type": "code",
   "execution_count": 109,
   "metadata": {
    "collapsed": true
   },
   "outputs": [],
   "source": [
    "def grayCode(n):\n",
    "    res = [0]\n",
    "\n",
    "    for i in range(n):\n",
    "        print(list(reversed(list(res))))\n",
    "        res += [x + pow(2, i) for x in reversed(res)]\n",
    "\n",
    "    return res"
   ]
  },
  {
   "cell_type": "code",
   "execution_count": 110,
   "metadata": {},
   "outputs": [
    {
     "name": "stdout",
     "output_type": "stream",
     "text": [
      "[0]\n",
      "[1, 0]\n",
      "[2, 3, 1, 0]\n",
      "[4, 5, 7, 6, 2, 3, 1, 0]\n",
      "[8, 9, 11, 10, 14, 15, 13, 12, 4, 5, 7, 6, 2, 3, 1, 0]\n"
     ]
    },
    {
     "data": {
      "text/plain": [
       "[0,\n",
       " 1,\n",
       " 3,\n",
       " 2,\n",
       " 6,\n",
       " 7,\n",
       " 5,\n",
       " 4,\n",
       " 12,\n",
       " 13,\n",
       " 15,\n",
       " 14,\n",
       " 10,\n",
       " 11,\n",
       " 9,\n",
       " 8,\n",
       " 24,\n",
       " 25,\n",
       " 27,\n",
       " 26,\n",
       " 30,\n",
       " 31,\n",
       " 29,\n",
       " 28,\n",
       " 20,\n",
       " 21,\n",
       " 23,\n",
       " 22,\n",
       " 18,\n",
       " 19,\n",
       " 17,\n",
       " 16]"
      ]
     },
     "execution_count": 110,
     "metadata": {},
     "output_type": "execute_result"
    }
   ],
   "source": [
    "grayCode(5)"
   ]
  },
  {
   "cell_type": "code",
   "execution_count": 112,
   "metadata": {},
   "outputs": [
    {
     "data": {
      "text/plain": [
       "32"
      ]
     },
     "execution_count": 112,
     "metadata": {},
     "output_type": "execute_result"
    }
   ],
   "source": [
    "1 << 5"
   ]
  },
  {
   "cell_type": "code",
   "execution_count": 113,
   "metadata": {
    "scrolled": true
   },
   "outputs": [
    {
     "data": {
      "text/plain": [
       "6"
      ]
     },
     "execution_count": 113,
     "metadata": {},
     "output_type": "execute_result"
    }
   ],
   "source": [
    "3 ^ 5"
   ]
  },
  {
   "cell_type": "code",
   "execution_count": 114,
   "metadata": {
    "collapsed": true
   },
   "outputs": [],
   "source": [
    "def grayCode2(n):\n",
    "    res = []\n",
    "    for i in range( 1 << n ):\n",
    "        res.append( i ^ i >> 1)\n",
    "    return res\n"
   ]
  },
  {
   "cell_type": "code",
   "execution_count": 115,
   "metadata": {},
   "outputs": [
    {
     "data": {
      "text/plain": [
       "[0,\n",
       " 1,\n",
       " 3,\n",
       " 2,\n",
       " 6,\n",
       " 7,\n",
       " 5,\n",
       " 4,\n",
       " 12,\n",
       " 13,\n",
       " 15,\n",
       " 14,\n",
       " 10,\n",
       " 11,\n",
       " 9,\n",
       " 8,\n",
       " 24,\n",
       " 25,\n",
       " 27,\n",
       " 26,\n",
       " 30,\n",
       " 31,\n",
       " 29,\n",
       " 28,\n",
       " 20,\n",
       " 21,\n",
       " 23,\n",
       " 22,\n",
       " 18,\n",
       " 19,\n",
       " 17,\n",
       " 16]"
      ]
     },
     "execution_count": 115,
     "metadata": {},
     "output_type": "execute_result"
    }
   ],
   "source": [
    "grayCode2(5)"
   ]
  },
  {
   "cell_type": "code",
   "execution_count": 116,
   "metadata": {
    "collapsed": true
   },
   "outputs": [],
   "source": [
    "def binToGray(n):\n",
    "    return n ^ n >> 1\n",
    "\n",
    "def grayToBin(num):\n",
    "    mask = num >> 1\n",
    "    while mask != 0 :\n",
    "        num = num ^ mask\n",
    "        mask = mask >> 1\n",
    "    return num"
   ]
  },
  {
   "cell_type": "code",
   "execution_count": 121,
   "metadata": {},
   "outputs": [
    {
     "data": {
      "text/plain": [
       "6"
      ]
     },
     "execution_count": 121,
     "metadata": {},
     "output_type": "execute_result"
    }
   ],
   "source": [
    "binToGray(4)"
   ]
  },
  {
   "cell_type": "code",
   "execution_count": 122,
   "metadata": {},
   "outputs": [
    {
     "data": {
      "text/plain": [
       "2"
      ]
     },
     "execution_count": 122,
     "metadata": {},
     "output_type": "execute_result"
    }
   ],
   "source": [
    "4 >> 1"
   ]
  },
  {
   "cell_type": "code",
   "execution_count": 123,
   "metadata": {},
   "outputs": [
    {
     "data": {
      "text/plain": [
       "6"
      ]
     },
     "execution_count": 123,
     "metadata": {},
     "output_type": "execute_result"
    }
   ],
   "source": [
    "4 ^ 2"
   ]
  },
  {
   "cell_type": "code",
   "execution_count": 124,
   "metadata": {},
   "outputs": [
    {
     "data": {
      "text/plain": [
       "7"
      ]
     },
     "execution_count": 124,
     "metadata": {},
     "output_type": "execute_result"
    }
   ],
   "source": [
    "grayToBin(4)"
   ]
  },
  {
   "cell_type": "code",
   "execution_count": 126,
   "metadata": {},
   "outputs": [
    {
     "data": {
      "text/plain": [
       "2"
      ]
     },
     "execution_count": 126,
     "metadata": {},
     "output_type": "execute_result"
    }
   ],
   "source": [
    "4 >> 1 "
   ]
  },
  {
   "cell_type": "code",
   "execution_count": 127,
   "metadata": {
    "collapsed": true
   },
   "outputs": [],
   "source": [
    "class SudokuSolution:\n",
    "    # @param {character[][]} board\n",
    "    # @return {void} Do not return anything, modify board in-place instead.\n",
    "    def solveSudoku(self, board):\n",
    "        if not board or len(board) == 0:\n",
    "            return\n",
    "        \n",
    "        self.helper(board)\n",
    "        \n",
    "    def helper(self, board):\n",
    "        for i in range(len(board)):\n",
    "            for j in range(len(board[0])):\n",
    "                if board[i][j] == '.':\n",
    "                    for num in range(ord('1'), ord('9') + 1):\n",
    "                        if self.isValid(board, i, j, chr(num)):\n",
    "                            board[i][j] = chr(num)\n",
    "                            \n",
    "                            if self.helper(board):\n",
    "                                return True\n",
    "                            else:\n",
    "                                board[i][j] = '.'\n",
    "                    return False\n",
    "        return True\n",
    "        \n",
    "    def isValid(self, board, i, j, num):\n",
    "        for row in range(len(board)):\n",
    "            if board[row][j] == num:\n",
    "                return False\n",
    "        \n",
    "        for col in range(len(board[0])):\n",
    "            if board[i][col] == num:\n",
    "                return False\n",
    "                \n",
    "        for row in range(i // 3 * 3, (i // 3 + 1) * 3):\n",
    "            for col in range(j // 3 * 3, (j // 3 + 1) * 3):\n",
    "                if board[row][col] == num:\n",
    "                    return False\n",
    "        \n",
    "        return True"
   ]
  },
  {
   "cell_type": "code",
   "execution_count": 132,
   "metadata": {
    "scrolled": true
   },
   "outputs": [
    {
     "data": {
      "text/plain": [
       "[['5', '3', '4', '6', '7', '8', '9', '1', '2'],\n",
       " ['6', '7', '2', '1', '9', '5', '3', '4', '8'],\n",
       " ['1', '9', '8', '3', '4', '2', '5', '6', '7'],\n",
       " ['8', '5', '9', '7', '6', '1', '4', '2', '3'],\n",
       " ['4', '2', '6', '8', '5', '3', '7', '9', '1'],\n",
       " ['7', '1', '3', '9', '2', '4', '8', '5', '6'],\n",
       " ['9', '6', '1', '5', '3', '7', '2', '8', '4'],\n",
       " ['2', '8', '7', '4', '1', '9', '6', '3', '5'],\n",
       " ['3', '4', '5', '2', '8', '6', '1', '7', '9']]"
      ]
     },
     "execution_count": 132,
     "metadata": {},
     "output_type": "execute_result"
    }
   ],
   "source": [
    "board = [\n",
    "    list(\"53..7....\"),\n",
    "    list(\"6..195...\"),\n",
    "    list(\".98....6.\"),\n",
    "    list(\"8...6...3\"),\n",
    "    list(\"4..8.3..1\"),\n",
    "    list(\"7...2...6\"),\n",
    "    list(\".6....28.\"),\n",
    "    list(\"...419..5\"),\n",
    "    list(\"....8..79\"),\n",
    "]\n",
    "sol = SudokuSolution()\n",
    "sol.solveSudoku(board)\n",
    "board\n"
   ]
  },
  {
   "cell_type": "code",
   "execution_count": 133,
   "metadata": {
    "collapsed": true
   },
   "outputs": [],
   "source": [
    "def isMatch(s, p):\n",
    "    if not p:\n",
    "        return not s\n",
    "\n",
    "    m, n = len(s), len(p)\n",
    "    i = j = 0\n",
    "    x = 0\n",
    "    y = -1\n",
    "\n",
    "    while i < m:\n",
    "        if j < n and (p[j] == '?' or p[j] == s[i]):\n",
    "            i += 1\n",
    "            j += 1\n",
    "        elif j < n and p[j] == '*':\n",
    "            x = i\n",
    "            y = j\n",
    "            j += 1\n",
    "        elif y >= 0:\n",
    "            i = x + 1\n",
    "            x += 1\n",
    "            j = y\n",
    "        else:\n",
    "            return False\n",
    "\n",
    "    if i < m:\n",
    "        return False\n",
    "\n",
    "    while j < n and p[j] == '*':\n",
    "        j += 1\n",
    "\n",
    "    return j == n"
   ]
  },
  {
   "cell_type": "code",
   "execution_count": 136,
   "metadata": {},
   "outputs": [
    {
     "data": {
      "text/plain": [
       "True"
      ]
     },
     "execution_count": 136,
     "metadata": {},
     "output_type": "execute_result"
    }
   ],
   "source": [
    "isMatch('aaaaaaaaaa', '*aaaa')"
   ]
  },
  {
   "cell_type": "code",
   "execution_count": 157,
   "metadata": {
    "collapsed": true
   },
   "outputs": [],
   "source": [
    "class Solution:\n",
    "    # @param {integer[]} candidates\n",
    "    # @param {integer} target\n",
    "    # @return {integer[][]}\n",
    "    def combinationSum2(self, candidates, target):\n",
    "        candidates.sort()\n",
    "        \n",
    "        res = []\n",
    "        vec = []\n",
    "        self.helper(candidates, target, res, vec)\n",
    "        return res\n",
    "        \n",
    "    def helper(self, candidates, target, res, vec):\n",
    "        print(candidates, ',target:', target, 'vec:', vec)\n",
    "        if target == 0:\n",
    "            print('append', vec)\n",
    "            res.append([x for x in vec])\n",
    "            return \n",
    "        \n",
    "        for i, elem in enumerate(candidates):\n",
    "            if i > 0 and candidates[i] == candidates[i - 1]:\n",
    "                print(i, elem, 'skip')\n",
    "                continue\n",
    "            if elem <= target:\n",
    "                vec.append(elem)\n",
    "                self.helper(candidates[i + 1:], target - elem, res, vec)\n",
    "                vec.pop()\n",
    "                "
   ]
  },
  {
   "cell_type": "code",
   "execution_count": 160,
   "metadata": {},
   "outputs": [
    {
     "name": "stdout",
     "output_type": "stream",
     "text": [
      "[1, 1, 2, 2, 3, 4, 5, 6, 7, 10] ,target: 8 vec: []\n",
      "[1, 2, 2, 3, 4, 5, 6, 7, 10] ,target: 7 vec: [1]\n",
      "[2, 2, 3, 4, 5, 6, 7, 10] ,target: 6 vec: [1, 1]\n",
      "[2, 3, 4, 5, 6, 7, 10] ,target: 4 vec: [1, 1, 2]\n",
      "[3, 4, 5, 6, 7, 10] ,target: 2 vec: [1, 1, 2, 2]\n",
      "[4, 5, 6, 7, 10] ,target: 1 vec: [1, 1, 2, 3]\n",
      "[5, 6, 7, 10] ,target: 0 vec: [1, 1, 2, 4]\n",
      "append [1, 1, 2, 4]\n",
      "1 2 skip\n",
      "[4, 5, 6, 7, 10] ,target: 3 vec: [1, 1, 3]\n",
      "[5, 6, 7, 10] ,target: 2 vec: [1, 1, 4]\n",
      "[6, 7, 10] ,target: 1 vec: [1, 1, 5]\n",
      "[7, 10] ,target: 0 vec: [1, 1, 6]\n",
      "append [1, 1, 6]\n",
      "[2, 3, 4, 5, 6, 7, 10] ,target: 5 vec: [1, 2]\n",
      "[3, 4, 5, 6, 7, 10] ,target: 3 vec: [1, 2, 2]\n",
      "[4, 5, 6, 7, 10] ,target: 0 vec: [1, 2, 2, 3]\n",
      "append [1, 2, 2, 3]\n",
      "[4, 5, 6, 7, 10] ,target: 2 vec: [1, 2, 3]\n",
      "[5, 6, 7, 10] ,target: 1 vec: [1, 2, 4]\n",
      "[6, 7, 10] ,target: 0 vec: [1, 2, 5]\n",
      "append [1, 2, 5]\n",
      "2 2 skip\n",
      "[4, 5, 6, 7, 10] ,target: 4 vec: [1, 3]\n",
      "[5, 6, 7, 10] ,target: 0 vec: [1, 3, 4]\n",
      "append [1, 3, 4]\n",
      "[5, 6, 7, 10] ,target: 3 vec: [1, 4]\n",
      "[6, 7, 10] ,target: 2 vec: [1, 5]\n",
      "[7, 10] ,target: 1 vec: [1, 6]\n",
      "[10] ,target: 0 vec: [1, 7]\n",
      "append [1, 7]\n",
      "1 1 skip\n",
      "[2, 3, 4, 5, 6, 7, 10] ,target: 6 vec: [2]\n",
      "[3, 4, 5, 6, 7, 10] ,target: 4 vec: [2, 2]\n",
      "[4, 5, 6, 7, 10] ,target: 1 vec: [2, 2, 3]\n",
      "[5, 6, 7, 10] ,target: 0 vec: [2, 2, 4]\n",
      "append [2, 2, 4]\n",
      "[4, 5, 6, 7, 10] ,target: 3 vec: [2, 3]\n",
      "[5, 6, 7, 10] ,target: 2 vec: [2, 4]\n",
      "[6, 7, 10] ,target: 1 vec: [2, 5]\n",
      "[7, 10] ,target: 0 vec: [2, 6]\n",
      "append [2, 6]\n",
      "3 2 skip\n",
      "[4, 5, 6, 7, 10] ,target: 5 vec: [3]\n",
      "[5, 6, 7, 10] ,target: 1 vec: [3, 4]\n",
      "[6, 7, 10] ,target: 0 vec: [3, 5]\n",
      "append [3, 5]\n",
      "[5, 6, 7, 10] ,target: 4 vec: [4]\n",
      "[6, 7, 10] ,target: 3 vec: [5]\n",
      "[7, 10] ,target: 2 vec: [6]\n",
      "[10] ,target: 1 vec: [7]\n"
     ]
    },
    {
     "data": {
      "text/plain": [
       "[[1, 1, 2, 4],\n",
       " [1, 1, 6],\n",
       " [1, 2, 2, 3],\n",
       " [1, 2, 5],\n",
       " [1, 3, 4],\n",
       " [1, 7],\n",
       " [2, 2, 4],\n",
       " [2, 6],\n",
       " [3, 5]]"
      ]
     },
     "execution_count": 160,
     "metadata": {},
     "output_type": "execute_result"
    }
   ],
   "source": [
    "candidates = [10, 1, 2, 2, 3, 4, 7,6, 1, 5]\n",
    "target = 8\n",
    "sol = Solution()\n",
    "sol.combinationSum2(candidates, target)"
   ]
  },
  {
   "cell_type": "code",
   "execution_count": 175,
   "metadata": {},
   "outputs": [
    {
     "ename": "SyntaxError",
     "evalue": "invalid syntax (<ipython-input-175-93f5851f6c9e>, line 9)",
     "output_type": "error",
     "traceback": [
      "\u001b[0;36m  File \u001b[0;32m\"<ipython-input-175-93f5851f6c9e>\"\u001b[0;36m, line \u001b[0;32m9\u001b[0m\n\u001b[0;31m    print(num, j, is[j:i]); num += 1\u001b[0m\n\u001b[0m                   ^\u001b[0m\n\u001b[0;31mSyntaxError\u001b[0m\u001b[0;31m:\u001b[0m invalid syntax\n"
     ]
    }
   ],
   "source": [
    "def wordBreak(s, wordDict):\n",
    "    n = len(s)\n",
    "    dp = [False] * (n + 1)\n",
    "    dp[0] = True\n",
    "\n",
    "    num = 0\n",
    "    for i in range(1, n + 1):\n",
    "        for j in range(i):\n",
    "            print(num, j, is[j:i]); num += 1\n",
    "            if dp[j] and s[j:i] in wordDict:\n",
    "                dp[i] = True\n",
    "                break\n",
    "    print(dp)\n",
    "    return dp[-1] "
   ]
  },
  {
   "cell_type": "code",
   "execution_count": 180,
   "metadata": {},
   "outputs": [
    {
     "name": "stdout",
     "output_type": "stream",
     "text": [
      "0 1 0 l\n",
      "1 2 0 le\n",
      "2 2 1 e\n",
      "3 3 0 lee\n",
      "4 3 1 ee\n",
      "5 3 2 e\n",
      "6 4 0 leet\n",
      "7 4 1 eet\n",
      "8 4 2 et\n",
      "9 4 3 t\n",
      "10 5 0 leetc\n",
      "11 5 1 eetc\n",
      "12 5 2 etc\n",
      "13 5 3 tc\n",
      "14 5 4 c\n",
      "15 6 0 leetco\n",
      "16 6 1 eetco\n",
      "17 6 2 etco\n",
      "18 6 3 tco\n",
      "19 6 4 co\n",
      "20 6 5 o\n",
      "21 7 0 leetcod\n",
      "22 7 1 eetcod\n",
      "23 7 2 etcod\n",
      "24 7 3 tcod\n",
      "25 7 4 cod\n",
      "26 7 5 od\n",
      "27 7 6 d\n",
      "28 8 0 leetcode\n",
      "29 8 1 eetcode\n",
      "30 8 2 etcode\n",
      "31 8 3 tcode\n",
      "32 8 4 code\n",
      "33 8 5 ode\n",
      "34 8 6 de\n",
      "35 8 7 e\n",
      "[True, False, False, False, False, False, False, False, False]\n"
     ]
    },
    {
     "data": {
      "text/plain": [
       "False"
      ]
     },
     "execution_count": 180,
     "metadata": {},
     "output_type": "execute_result"
    }
   ],
   "source": [
    "wordBreak('leetcode', ['leetaacodecsdfdsafasfa'])"
   ]
  },
  {
   "cell_type": "code",
   "execution_count": 221,
   "metadata": {},
   "outputs": [
    {
     "data": {
      "text/plain": [
       "15"
      ]
     },
     "execution_count": 221,
     "metadata": {},
     "output_type": "execute_result"
    }
   ],
   "source": [
    "sum(range(1,6))"
   ]
  },
  {
   "cell_type": "code",
   "execution_count": 193,
   "metadata": {
    "collapsed": true
   },
   "outputs": [],
   "source": [
    "class Solution:\n",
    "    # @param s, a string\n",
    "    # @param wordDict, a set\n",
    "    # @return a string[]\n",
    "    def wordBreak(self, s, wordDict):\n",
    "        if not s:\n",
    "            return []\n",
    "        n = len(s)\n",
    "        dp = [[] for x in range(n + 1)]\n",
    "        dp[0] = [0]\n",
    "        \n",
    "        for i in range(1, n + 1):\n",
    "            for j in range(i):\n",
    "                if dp[j] and s[j:i] in wordDict:\n",
    "                    dp[i].append(j)\n",
    "        \n",
    "        res = []\n",
    "        print(dp)\n",
    "        self.backTracking(dp, s, n, res, '')\n",
    "        return res\n",
    "    \n",
    "    def backTracking(self, dp, s, idx, res, line):\n",
    "        for i in dp[idx]:\n",
    "            newLine = s[i:idx] + ' ' + line if line else s[i:idx]\n",
    "            print(i, newLine)\n",
    "            if i == 0:\n",
    "                res.append(newLine)\n",
    "            else:\n",
    "                self.backTracking(dp, s, i, res, newLine)"
   ]
  },
  {
   "cell_type": "code",
   "execution_count": 194,
   "metadata": {
    "scrolled": true
   },
   "outputs": [
    {
     "name": "stdout",
     "output_type": "stream",
     "text": [
      "[[0], [], [], [0], [0], [], [], [3, 4], [], [], [7]]\n",
      "7 dog\n",
      "3 sand dog\n",
      "0 cat sand dog\n",
      "4 and dog\n",
      "0 cats and dog\n"
     ]
    },
    {
     "data": {
      "text/plain": [
       "['cat sand dog', 'cats and dog']"
      ]
     },
     "execution_count": 194,
     "metadata": {},
     "output_type": "execute_result"
    }
   ],
   "source": [
    "s = \"catsanddog\"\n",
    "wordDict = [\"cat\", \"cats\", \"and\", \"sand\", \"dog\"]\n",
    "sol = Solution()\n",
    "sol.wordBreak(s, wordDict)"
   ]
  },
  {
   "cell_type": "code",
   "execution_count": 217,
   "metadata": {
    "collapsed": true
   },
   "outputs": [],
   "source": [
    "class Solution:\n",
    "    # @param {integer} n\n",
    "    # @return {string[]}\n",
    "    def generateParenthesis(self, n):\n",
    "        if not n:\n",
    "            return []\n",
    "            \n",
    "        res = []\n",
    "        cnt = [0]\n",
    "        self.helper(n, n, res, \"\", cnt)\n",
    "        print(cnt[0])\n",
    "        return res\n",
    "        \n",
    "    def helper(self, left, right, res, line, cnt):\n",
    "        print(left, right)\n",
    "        cnt[0] += 1\n",
    "        if right < left:\n",
    "            print('skip')\n",
    "            return\n",
    "        \n",
    "        if left == 0 and right == 0:\n",
    "            res.append(line)\n",
    "            return\n",
    "        \n",
    "        if left > 0:\n",
    "            self.helper(left - 1, right, res, line + '(', cnt)\n",
    "        \n",
    "        if right > 0:\n",
    "            self.helper(left, right - 1, res, line + ')', cnt)"
   ]
  },
  {
   "cell_type": "code",
   "execution_count": 219,
   "metadata": {},
   "outputs": [
    {
     "name": "stdout",
     "output_type": "stream",
     "text": [
      "3 3\n",
      "2 3\n",
      "1 3\n",
      "0 3\n",
      "0 2\n",
      "0 1\n",
      "0 0\n",
      "1 2\n",
      "0 2\n",
      "0 1\n",
      "0 0\n",
      "1 1\n",
      "0 1\n",
      "0 0\n",
      "1 0\n",
      "skip\n",
      "2 2\n",
      "1 2\n",
      "0 2\n",
      "0 1\n",
      "0 0\n",
      "1 1\n",
      "0 1\n",
      "0 0\n",
      "1 0\n",
      "skip\n",
      "2 1\n",
      "skip\n",
      "3 2\n",
      "skip\n",
      "26\n"
     ]
    },
    {
     "data": {
      "text/plain": [
       "['((()))', '(()())', '(())()', '()(())', '()()()']"
      ]
     },
     "execution_count": 219,
     "metadata": {},
     "output_type": "execute_result"
    }
   ],
   "source": [
    "sol = Solution()\n",
    "sol.generateParenthesis(3)"
   ]
  },
  {
   "cell_type": "code",
   "execution_count": null,
   "metadata": {
    "collapsed": true
   },
   "outputs": [],
   "source": [
    "ans = []\n",
    "for x in range(-1000, 1000):\n",
    "    for y in range(-1000, 1000):\n",
    "        for z in range(-1000, 1000)\n",
    "            if pow(x, 3) + pow(y, 3) == pow(z, 3):\n",
    "                ans.append((x, y, z))\n",
    "                "
   ]
  },
  {
   "cell_type": "code",
   "execution_count": null,
   "metadata": {
    "collapsed": true
   },
   "outputs": [],
   "source": [
    "def candy(ratings):\n",
    "    n = len(ratings)\n",
    "\n",
    "    uSeq = [0 for i in range(n)]\n",
    "\n",
    "    for i in range(1, n):\n",
    "        if ratings[i] > ratings[i - 1]:\n",
    "            uSeq[i] = uSeq[i - 1] + 1\n",
    "\n",
    "    dSeq = [0 for i in range(n)]\n",
    "\n",
    "    for i in range(n - 2, -1, -1):\n",
    "        if ratings[i] > ratings[i + 1]:\n",
    "            dSeq[i] = dSeq[i + 1] + 1\n",
    "\n",
    "    candies = [max(dSeq[i], uSeq[i]) + 1 for i in range(n)]\n",
    "    return sum(candies)"
   ]
  },
  {
   "cell_type": "code",
   "execution_count": null,
   "metadata": {
    "collapsed": true
   },
   "outputs": [],
   "source": [
    "ratings = [1,2,3,4,5,6,7,8,9,10]\n",
    "candy(ratings)"
   ]
  }
 ],
 "metadata": {
  "kernelspec": {
   "display_name": "Python 3",
   "language": "python",
   "name": "python3"
  },
  "language_info": {
   "codemirror_mode": {
    "name": "ipython",
    "version": 3
   },
   "file_extension": ".py",
   "mimetype": "text/x-python",
   "name": "python",
   "nbconvert_exporter": "python",
   "pygments_lexer": "ipython3",
   "version": "3.5.2"
  }
 },
 "nbformat": 4,
 "nbformat_minor": 2
}
