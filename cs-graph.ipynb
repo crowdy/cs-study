{
 "cells": [
  {
   "cell_type": "code",
   "execution_count": null,
   "metadata": {
    "collapsed": true
   },
   "outputs": [],
   "source": [
    "class GraphNode:\n",
    "    def __init__(self, val, neighbors=None):\n",
    "        self.val = val\n",
    "        self.neighbors = neighbors"
   ]
  },
  {
   "cell_type": "code",
   "execution_count": null,
   "metadata": {
    "collapsed": true
   },
   "outputs": [],
   "source": [
    "def generate_sample_graph(minval=0, maxval=10, numvertex=10, maxneighbors=4):\n",
    "    G = []\n",
    "    for i in range(numvertex):\n",
    "        G.append(GraphNode(random.randint(minval, maxval)))\n",
    "    for i in range(numvertex):\n",
    "        G[i].neighbors = []\n",
    "        for j in range(random.randint(0, maxneighbors)):\n",
    "            G[i].neighbors.append(G[j])\n",
    "    return G[0]"
   ]
  },
  {
   "cell_type": "code",
   "execution_count": null,
   "metadata": {
    "collapsed": true
   },
   "outputs": [],
   "source": [
    "def clone_graph(node):\n",
    "    copynode = GraphNode(node.val)\n",
    "    graph = {}\n",
    "    graph[node] = copynode\n",
    "    \n",
    "    queue = [node]\n",
    "    while queue:\n",
    "        cur = queue.pop(0)\n",
    "        for n in cur.neighbors:\n",
    "            if n in graph:\n",
    "                graph[cur].neighbors.append(graph[n])\n",
    "            else:\n",
    "                ncopy = GraphNode(n.val)\n",
    "                graph[n] = ncopy\n",
    "                graph[cur].neighbors.append(ncopy)\n",
    "                queue.append(n)\n",
    "    return graph[node]"
   ]
  },
  {
   "cell_type": "code",
   "execution_count": null,
   "metadata": {
    "collapsed": true
   },
   "outputs": [],
   "source": [
    "def cloneGraph(node):\n",
    "    if node is None:\n",
    "        return None\n",
    "    copyNode = GraphNode(node.val)\n",
    "    dic = {}\n",
    "    dic[node] = copyNode\n",
    "    queue = [node]\n",
    "    \n",
    "    while queue:\n",
    "        cur = queue.pop(0)\n",
    "        for n in cur.neighbors:\n",
    "            if n in dic:\n",
    "                dic[cur].neighbors.append(dic[n])\n",
    "            else:\n",
    "                nCopy = GraphNode(n.val)\n",
    "                dic[n] = nCopy\n",
    "                dic[cur].neighbors.append(ncopy)\n",
    "                queue.append(n)\n",
    "    return dic[node]\n"
   ]
  },
  {
   "cell_type": "code",
   "execution_count": null,
   "metadata": {
    "collapsed": true
   },
   "outputs": [],
   "source": [
    "def validTree(n, edges):\n",
    "    \"BFS, O(n) time, 0(n) space\"\n",
    "    if len(edges) != n -1:\n",
    "        return False\n",
    "    \n",
    "    neighbors = {i:[] for i in range(n)}\n",
    "    \n",
    "    for v, w in edges:\n",
    "        neighbors[v].append(w)\n",
    "        neighbors[w].append(v)\n",
    "        \n",
    "    queue = [0]\n",
    "    while queue:\n",
    "        queue.extend(neighbors.pop(queue.pop(0), []))\n",
    "        \n",
    "    return not neighbors"
   ]
  }
 ],
 "metadata": {
  "kernelspec": {
   "display_name": "Python 3",
   "language": "python",
   "name": "python3"
  },
  "language_info": {
   "codemirror_mode": {
    "name": "ipython",
    "version": 3
   },
   "file_extension": ".py",
   "mimetype": "text/x-python",
   "name": "python",
   "nbconvert_exporter": "python",
   "pygments_lexer": "ipython3",
   "version": "3.6.1"
  }
 },
 "nbformat": 4,
 "nbformat_minor": 2
}
