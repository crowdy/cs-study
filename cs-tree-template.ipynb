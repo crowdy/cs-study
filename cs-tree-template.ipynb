{
 "cells": [
  {
   "cell_type": "code",
   "execution_count": null,
   "metadata": {
    "collapsed": true
   },
   "outputs": [],
   "source": [
    "class TreeNode:\n",
    "    def __init__(self, val, left=None, right=None, parent=None):\n",
    "        self.val = val\n",
    "        self.left = left\n",
    "        self.right = right\n",
    "        self.parent = parent"
   ]
  },
  {
   "cell_type": "code",
   "execution_count": null,
   "metadata": {
    "collapsed": true
   },
   "outputs": [],
   "source": [
    "def sorted_array_to_BST1(arr):\n",
    "    def sorted_array_to_BST_recur(arr, start, end):\n",
    "        if start > end:\n",
    "            return None\n",
    "        mid = start + (end - start) //2\n",
    "        print('mid:', mid)\n",
    "        node = TreeNode(arr[mbid])\n",
    "        node.left = sorted_array_to_BST_recur(arr, start, mid -1)\n",
    "        node.right = sorted_array_to_BST_recur(arr, mid + 1, end)\n",
    "        return node\n",
    "    \n",
    "    return sorted_array_to_BST_recur(arr, 0, len(arr)-1)"
   ]
  },
  {
   "cell_type": "code",
   "execution_count": null,
   "metadata": {
    "collapsed": true
   },
   "outputs": [],
   "source": [
    "arr = list(range(10))\n",
    "print(arr)\n",
    "result1 = sorted_array_to_BST(arr)\n",
    "result1.val"
   ]
  }
 ],
 "metadata": {
  "kernelspec": {
   "display_name": "Python 3",
   "language": "python",
   "name": "python3"
  },
  "language_info": {
   "codemirror_mode": {
    "name": "ipython",
    "version": 3
   },
   "file_extension": ".py",
   "mimetype": "text/x-python",
   "name": "python",
   "nbconvert_exporter": "python",
   "pygments_lexer": "ipython3",
   "version": "3.6.1"
  }
 },
 "nbformat": 4,
 "nbformat_minor": 2
}
