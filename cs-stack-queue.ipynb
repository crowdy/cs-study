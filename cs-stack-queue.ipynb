{
 "cells": [
  {
   "cell_type": "code",
   "execution_count": null,
   "metadata": {
    "collapsed": true
   },
   "outputs": [],
   "source": [
    "def balanced_bracket(str):\n",
    "    \"https://www.youtube.com/watch?v=xOTD9MvYweg\"\n",
    "    left_parens = ('(', '{', '[')\n",
    "    right_parens = (')', '}', ']')\n",
    "    right_to_left = {\n",
    "        ')' : '(',\n",
    "        '}' : '{',\n",
    "        ']' : '[',\n",
    "    }\n",
    "    \n",
    "    stack = []\n",
    "    for char in str:\n",
    "        if char in left_parens:\n",
    "            stack.append(char)\n",
    "        elif char in right_parens:\n",
    "            if not stack or stack.pop() != right_to_left[char]:\n",
    "                return False\n",
    "    if stack:\n",
    "        return False\n",
    "    return True\n",
    "\n",
    "balanced_bracket(\"(())[]({[]{}})\")"
   ]
  }
 ],
 "metadata": {
  "kernelspec": {
   "display_name": "Python 3",
   "language": "python",
   "name": "python3"
  },
  "language_info": {
   "codemirror_mode": {
    "name": "ipython",
    "version": 3
   },
   "file_extension": ".py",
   "mimetype": "text/x-python",
   "name": "python",
   "nbconvert_exporter": "python",
   "pygments_lexer": "ipython3",
   "version": "3.6.1"
  }
 },
 "nbformat": 4,
 "nbformat_minor": 2
}
