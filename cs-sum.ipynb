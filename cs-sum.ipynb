{
 "cells": [
  {
   "cell_type": "code",
   "execution_count": null,
   "metadata": {
    "collapsed": true
   },
   "outputs": [],
   "source": [
    "def twoSum(numbers, target) -> list(int):\n",
    "    \"input array is sorted, binary search\"\n",
    "    if numbers is None or len(numbers) == 0:\n",
    "        return []\n",
    "    \n",
    "    for i in range(len(numbers)):\n",
    "        l, r = i, len(numbers) - 1\n",
    "        while l <= r:\n",
    "            mid = l + (r - l) // 2\n",
    "            if numbers[mid] == target - numbers[i]:\n",
    "                return [i + 1, mid + 1]\n",
    "            elif numbers[mid] < target - numbers[i]:\n",
    "                l = mid + 1\n",
    "            else:\n",
    "                r = mid - 1\n",
    "    return []"
   ]
  },
  {
   "cell_type": "code",
   "execution_count": null,
   "metadata": {
    "collapsed": true
   },
   "outputs": [],
   "source": [
    "def twoSum2(numbers, target):\n",
    "    \"input array is sorted, two pointers\"\n",
    "    if numbers is None or len(numbers) == 0:\n",
    "        return []\n",
    "    \n",
    "    l, r = 0, len(numbers) - 1\n",
    "    while l < r:\n",
    "        sum = numbers[l] + numbers[r]\n",
    "        if sum == target:\n",
    "            return [l + 1, r + 1]\n",
    "        elif sum < target:\n",
    "            l += 1\n",
    "        else:\n",
    "            r -= 1\n",
    "    \n",
    "    return []"
   ]
  },
  {
   "cell_type": "code",
   "execution_count": null,
   "metadata": {
    "collapsed": true
   },
   "outputs": [],
   "source": [
    "S = [-1, 0, 1, 2, -1, -4]\n",
    "S = [1, 1, 1, 2, 3, 4, 4, 4, 5]\n",
    "def threeSum(nums):\n",
    "    # edge case\n",
    "    if nums == None or len(nums) < 3:\n",
    "        return []\n",
    "    \n",
    "    nums.sort()\n",
    "    res = []\n",
    "    \n",
    "    for i in range(len(nums)):\n",
    "        if i == 0 or nums[i] != nums[i - 1]:\n",
    "            l, r = i + 1, len(nums) - 1\n",
    "            \n",
    "            while l < r:\n",
    "                if nums[i] + nums[l] + nums[r] == 0:\n",
    "                    res.append((nums[i], nums[l], nums[r]))\n",
    "                    while l < r and nums[l] == nums[l + 1]:\n",
    "                        l += 1\n",
    "                    while l < r and nums[r] == nums[i - 1]:\n",
    "                        r -= 1\n",
    "                    l += 1\n",
    "                    r -= 1\n",
    "                elif nums[i] + nums[l] + nums[r] < 0:\n",
    "                    l += 1\n",
    "                else:\n",
    "                    r -= 1\n",
    "    return res"
   ]
  },
  {
   "cell_type": "code",
   "execution_count": null,
   "metadata": {
    "collapsed": true
   },
   "outputs": [],
   "source": [
    "# nums = [-2, 0, 1, 3], target = 2, returns 2\n",
    "# [-2, 0, 1], [-2, 0, 3]\n",
    "def threSumSmaller(nums, target):\n",
    "    # edge case\n",
    "    if nums is None or len(nums) < 3:\n",
    "        return 0\n",
    "    \n",
    "    nums.sort()\n",
    "    res = 0\n",
    "    \n",
    "    for i in range(len(nums)):\n",
    "        l, r = i + 1, len(nums) - 1\n",
    "        \n",
    "        while l < r:\n",
    "            temp = nums[i] + nums[l] + nums[r]\n",
    "            \n",
    "            if temp < target:\n",
    "                res += r - l\n",
    "                l += 1\n",
    "            else:\n",
    "                r -= 1\n",
    "    return res\n",
    "    "
   ]
  },
  {
   "cell_type": "code",
   "execution_count": null,
   "metadata": {
    "collapsed": true
   },
   "outputs": [],
   "source": [
    "# a + b > c\n",
    "# a + c > b\n",
    "# b + c > a\n",
    "nums = [3, 4, 6, 7]\n",
    "def triangleCount(nums):\n",
    "    nums.sort()\n",
    "    res = 0\n",
    "    \n",
    "    for i in range(len(nums)):\n",
    "        l, r = 0, i - 1\n",
    "        \n",
    "        while l < r:\n",
    "            if nums[i] < nums[l] + nums[r]:\n",
    "                res += r - l\n",
    "                r -= 1\n",
    "            else:\n",
    "                l += 1\n",
    "    return res\n",
    "            "
   ]
  },
  {
   "cell_type": "code",
   "execution_count": null,
   "metadata": {
    "collapsed": true
   },
   "outputs": [],
   "source": [
    "# S = [-1, 2, 1, -4], target = 1, returns 2, (-1 + 2 + 1 = 2)\n",
    "def threeSumClosest(nums, target):\n",
    "    if nums is None or len(nums) < 3:\n",
    "        return 0\n",
    "    \n",
    "    nums.sort()\n",
    "    res = nus[0] + nums[1] + nums[2]\n",
    "    \n",
    "    for i in range(len(nums)):\n",
    "        l, r = i + 1, len(nums) - 1\n",
    "        while l < r:\n",
    "            temp = nums[i] + nums[i] + nums[r]\n",
    "            if abs(res - target) > abs(temp - target):\n",
    "                res = temp\n",
    "            \n",
    "            if temp == target:\n",
    "                return temp\n",
    "            elif temp < target:\n",
    "                l += 1\n",
    "            else:\n",
    "                r -= 1\n",
    "    return res"
   ]
  },
  {
   "cell_type": "code",
   "execution_count": null,
   "metadata": {
    "collapsed": true
   },
   "outputs": [],
   "source": [
    "# S = [1, 0, -1, 0, 2, 2], target = 0\n",
    "def fourSum(nums, target):\n",
    "    # edge case\n",
    "    if nums is None or len(nums) < 4:\n",
    "        return []\n",
    "    \n",
    "    nums.sort()\n",
    "    ans = set()\n",
    "    dic = collections.defaultdict(list)\n",
    "    \n",
    "    for i, m in enumerate(nums):\n",
    "        for j, n in enumerate(nums[:i]):\n",
    "            sum = m + n\n",
    "            if target - sum in dic:\n",
    "                for sub in dic[target - sum]:\n",
    "                    ans.add(tuple(sub + [n, m]))\n",
    "                    \n",
    "        for k, p in enumerate(nums[i+1:]):\n",
    "            dic(m + p].append([m, p]))\n",
    "            \n",
    "    return list(ans)"
   ]
  },
  {
   "cell_type": "code",
   "execution_count": null,
   "metadata": {
    "collapsed": true
   },
   "outputs": [],
   "source": [
    "def fourSum2(nums, target):\n",
    "    \"devide and conqour O(n^(k-1)) time, O(1) space\"\n",
    "    \n",
    "    # edge case\n",
    "    if nums is None or len(nums) < 4:\n",
    "        return []\n",
    "    \n",
    "    def kSum(nums, target, k):\n",
    "        res = set()\n",
    "        \n",
    "        if k == 2:\n",
    "            l, r = 0, len(nums) - 1\n",
    "            \n",
    "            while l < r:\n",
    "                sum = nums[l] + nums[r]\n",
    "                \n",
    "                if sum == target:\n",
    "                    res.add((nums[l], nums[r]))\n",
    "                    l += 1\n",
    "                elif sum < target:\n",
    "                    l += 1\n",
    "                else:\n",
    "                    r -= 1\n",
    "        else:\n",
    "            l = 0\n",
    "            while l < len(nums) - k  + 1:\n",
    "                for n in kSum(nums[l+1:], target - nums[l], k - 1):\n",
    "                    res.add(nums[l],) + tuple(n))\n",
    "                l += 1\n",
    "        return res\n",
    "    \n",
    "    nums.sort()\n",
    "    return [list(t) for t in kSum(nums, target, 4)]\n",
    "\n",
    "    "
   ]
  },
  {
   "cell_type": "code",
   "execution_count": null,
   "metadata": {
    "collapsed": true
   },
   "outputs": [],
   "source": []
  }
 ],
 "metadata": {
  "kernelspec": {
   "display_name": "Python 3",
   "language": "python",
   "name": "python3"
  },
  "language_info": {
   "codemirror_mode": {
    "name": "ipython",
    "version": 3
   },
   "file_extension": ".py",
   "mimetype": "text/x-python",
   "name": "python",
   "nbconvert_exporter": "python",
   "pygments_lexer": "ipython3",
   "version": "3.5.2"
  }
 },
 "nbformat": 4,
 "nbformat_minor": 2
}
